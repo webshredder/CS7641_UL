{
  "nbformat": 4,
  "nbformat_minor": 0,
  "metadata": {
    "colab": {
      "provenance": [],
      "collapsed_sections": []
    },
    "kernelspec": {
      "name": "python3",
      "display_name": "Python 3"
    }
  },
  "cells": [
    {
      "cell_type": "markdown",
      "metadata": {
        "id": "view-in-github"
      },
      "source": [
        "<a href=\"https://colab.research.google.com/github/Anny8910/Decision-Tree-Classification-on-Diabetes-Dataset/blob/master/Diabetes_set_(Decision_tree).ipynb\" target=\"_parent\"><img src=\"https://colab.research.google.com/assets/colab-badge.svg\" alt=\"Open In Colab\"/></a>"
      ]
    },
    {
      "cell_type": "code",
      "metadata": {
        "id": "vU5U2E-eKKdD"
      },
      "source": [
        "#import libraries\n",
        "import pandas as pd\n",
        "import numpy as np\n",
        "import time\n",
        "from matplotlib import pyplot\n",
        "from sklearn.cluster import KMeans\n",
        "from sklearn import metrics #Import scikit-learn metrics module \n",
        "from sklearn import preprocessing\n",
        "from sklearn.metrics import confusion_matrix\n",
        "from sklearn.mixture import GaussianMixture\n",
        "from sklearn.metrics import mean_squared_error\n",
        "from sklearn.metrics import mean_absolute_error\n",
        "from sklearn.metrics import accuracy_score"
      ],
      "execution_count": 6,
      "outputs": []
    },
    {
      "cell_type": "code",
      "source": [
        "# load dataset from github account\n",
        "url = 'https://raw.githubusercontent.com/webshredder/CS7641-Assigment1/main/diabetes_dataset.csv'\n",
        "df = pd.read_csv(url,on_bad_lines='skip')\n",
        "df.head()"
      ],
      "metadata": {
        "colab": {
          "base_uri": "https://localhost:8080/",
          "height": 206
        },
        "id": "aUjiOB-Pb2f6",
        "outputId": "e6a78ed1-88fb-4be2-cbd1-4d769082830a"
      },
      "execution_count": 7,
      "outputs": [
        {
          "output_type": "execute_result",
          "data": {
            "text/plain": [
              "   Pregnancies  Glucose  BloodPressure  SkinThickness  Insulin   BMI  \\\n",
              "0            6      148             72             35        0  33.6   \n",
              "1            1       85             66             29        0  26.6   \n",
              "2            8      183             64              0        0  23.3   \n",
              "3            1       89             66             23       94  28.1   \n",
              "4            0      137             40             35      168  43.1   \n",
              "\n",
              "   DiabetesPedigreeFunction  Age  Outcome  \n",
              "0                     0.627   50        1  \n",
              "1                     0.351   31        0  \n",
              "2                     0.672   32        1  \n",
              "3                     0.167   21        0  \n",
              "4                     2.288   33        1  "
            ],
            "text/html": [
              "\n",
              "  <div id=\"df-a50e4fbf-6276-4b9b-8ea0-389485c16c78\">\n",
              "    <div class=\"colab-df-container\">\n",
              "      <div>\n",
              "<style scoped>\n",
              "    .dataframe tbody tr th:only-of-type {\n",
              "        vertical-align: middle;\n",
              "    }\n",
              "\n",
              "    .dataframe tbody tr th {\n",
              "        vertical-align: top;\n",
              "    }\n",
              "\n",
              "    .dataframe thead th {\n",
              "        text-align: right;\n",
              "    }\n",
              "</style>\n",
              "<table border=\"1\" class=\"dataframe\">\n",
              "  <thead>\n",
              "    <tr style=\"text-align: right;\">\n",
              "      <th></th>\n",
              "      <th>Pregnancies</th>\n",
              "      <th>Glucose</th>\n",
              "      <th>BloodPressure</th>\n",
              "      <th>SkinThickness</th>\n",
              "      <th>Insulin</th>\n",
              "      <th>BMI</th>\n",
              "      <th>DiabetesPedigreeFunction</th>\n",
              "      <th>Age</th>\n",
              "      <th>Outcome</th>\n",
              "    </tr>\n",
              "  </thead>\n",
              "  <tbody>\n",
              "    <tr>\n",
              "      <th>0</th>\n",
              "      <td>6</td>\n",
              "      <td>148</td>\n",
              "      <td>72</td>\n",
              "      <td>35</td>\n",
              "      <td>0</td>\n",
              "      <td>33.6</td>\n",
              "      <td>0.627</td>\n",
              "      <td>50</td>\n",
              "      <td>1</td>\n",
              "    </tr>\n",
              "    <tr>\n",
              "      <th>1</th>\n",
              "      <td>1</td>\n",
              "      <td>85</td>\n",
              "      <td>66</td>\n",
              "      <td>29</td>\n",
              "      <td>0</td>\n",
              "      <td>26.6</td>\n",
              "      <td>0.351</td>\n",
              "      <td>31</td>\n",
              "      <td>0</td>\n",
              "    </tr>\n",
              "    <tr>\n",
              "      <th>2</th>\n",
              "      <td>8</td>\n",
              "      <td>183</td>\n",
              "      <td>64</td>\n",
              "      <td>0</td>\n",
              "      <td>0</td>\n",
              "      <td>23.3</td>\n",
              "      <td>0.672</td>\n",
              "      <td>32</td>\n",
              "      <td>1</td>\n",
              "    </tr>\n",
              "    <tr>\n",
              "      <th>3</th>\n",
              "      <td>1</td>\n",
              "      <td>89</td>\n",
              "      <td>66</td>\n",
              "      <td>23</td>\n",
              "      <td>94</td>\n",
              "      <td>28.1</td>\n",
              "      <td>0.167</td>\n",
              "      <td>21</td>\n",
              "      <td>0</td>\n",
              "    </tr>\n",
              "    <tr>\n",
              "      <th>4</th>\n",
              "      <td>0</td>\n",
              "      <td>137</td>\n",
              "      <td>40</td>\n",
              "      <td>35</td>\n",
              "      <td>168</td>\n",
              "      <td>43.1</td>\n",
              "      <td>2.288</td>\n",
              "      <td>33</td>\n",
              "      <td>1</td>\n",
              "    </tr>\n",
              "  </tbody>\n",
              "</table>\n",
              "</div>\n",
              "      <button class=\"colab-df-convert\" onclick=\"convertToInteractive('df-a50e4fbf-6276-4b9b-8ea0-389485c16c78')\"\n",
              "              title=\"Convert this dataframe to an interactive table.\"\n",
              "              style=\"display:none;\">\n",
              "        \n",
              "  <svg xmlns=\"http://www.w3.org/2000/svg\" height=\"24px\"viewBox=\"0 0 24 24\"\n",
              "       width=\"24px\">\n",
              "    <path d=\"M0 0h24v24H0V0z\" fill=\"none\"/>\n",
              "    <path d=\"M18.56 5.44l.94 2.06.94-2.06 2.06-.94-2.06-.94-.94-2.06-.94 2.06-2.06.94zm-11 1L8.5 8.5l.94-2.06 2.06-.94-2.06-.94L8.5 2.5l-.94 2.06-2.06.94zm10 10l.94 2.06.94-2.06 2.06-.94-2.06-.94-.94-2.06-.94 2.06-2.06.94z\"/><path d=\"M17.41 7.96l-1.37-1.37c-.4-.4-.92-.59-1.43-.59-.52 0-1.04.2-1.43.59L10.3 9.45l-7.72 7.72c-.78.78-.78 2.05 0 2.83L4 21.41c.39.39.9.59 1.41.59.51 0 1.02-.2 1.41-.59l7.78-7.78 2.81-2.81c.8-.78.8-2.07 0-2.86zM5.41 20L4 18.59l7.72-7.72 1.47 1.35L5.41 20z\"/>\n",
              "  </svg>\n",
              "      </button>\n",
              "      \n",
              "  <style>\n",
              "    .colab-df-container {\n",
              "      display:flex;\n",
              "      flex-wrap:wrap;\n",
              "      gap: 12px;\n",
              "    }\n",
              "\n",
              "    .colab-df-convert {\n",
              "      background-color: #E8F0FE;\n",
              "      border: none;\n",
              "      border-radius: 50%;\n",
              "      cursor: pointer;\n",
              "      display: none;\n",
              "      fill: #1967D2;\n",
              "      height: 32px;\n",
              "      padding: 0 0 0 0;\n",
              "      width: 32px;\n",
              "    }\n",
              "\n",
              "    .colab-df-convert:hover {\n",
              "      background-color: #E2EBFA;\n",
              "      box-shadow: 0px 1px 2px rgba(60, 64, 67, 0.3), 0px 1px 3px 1px rgba(60, 64, 67, 0.15);\n",
              "      fill: #174EA6;\n",
              "    }\n",
              "\n",
              "    [theme=dark] .colab-df-convert {\n",
              "      background-color: #3B4455;\n",
              "      fill: #D2E3FC;\n",
              "    }\n",
              "\n",
              "    [theme=dark] .colab-df-convert:hover {\n",
              "      background-color: #434B5C;\n",
              "      box-shadow: 0px 1px 3px 1px rgba(0, 0, 0, 0.15);\n",
              "      filter: drop-shadow(0px 1px 2px rgba(0, 0, 0, 0.3));\n",
              "      fill: #FFFFFF;\n",
              "    }\n",
              "  </style>\n",
              "\n",
              "      <script>\n",
              "        const buttonEl =\n",
              "          document.querySelector('#df-a50e4fbf-6276-4b9b-8ea0-389485c16c78 button.colab-df-convert');\n",
              "        buttonEl.style.display =\n",
              "          google.colab.kernel.accessAllowed ? 'block' : 'none';\n",
              "\n",
              "        async function convertToInteractive(key) {\n",
              "          const element = document.querySelector('#df-a50e4fbf-6276-4b9b-8ea0-389485c16c78');\n",
              "          const dataTable =\n",
              "            await google.colab.kernel.invokeFunction('convertToInteractive',\n",
              "                                                     [key], {});\n",
              "          if (!dataTable) return;\n",
              "\n",
              "          const docLinkHtml = 'Like what you see? Visit the ' +\n",
              "            '<a target=\"_blank\" href=https://colab.research.google.com/notebooks/data_table.ipynb>data table notebook</a>'\n",
              "            + ' to learn more about interactive tables.';\n",
              "          element.innerHTML = '';\n",
              "          dataTable['output_type'] = 'display_data';\n",
              "          await google.colab.output.renderOutput(dataTable, element);\n",
              "          const docLink = document.createElement('div');\n",
              "          docLink.innerHTML = docLinkHtml;\n",
              "          element.appendChild(docLink);\n",
              "        }\n",
              "      </script>\n",
              "    </div>\n",
              "  </div>\n",
              "  "
            ]
          },
          "metadata": {},
          "execution_count": 7
        }
      ]
    },
    {
      "cell_type": "code",
      "metadata": {
        "id": "ZHDE7n7fMXF1"
      },
      "source": [
        "#feature variables\n",
        "x=df.drop(['Outcome'], axis=1)\n",
        "#target variable\n",
        "y=df.Outcome\n",
        "\n"
      ],
      "execution_count": 8,
      "outputs": []
    },
    {
      "cell_type": "code",
      "metadata": {
        "id": "783jd1sHQyP4",
        "colab": {
          "base_uri": "https://localhost:8080/"
        },
        "outputId": "dea3442f-af25-401a-c084-b5a50e03e0e4"
      },
      "source": [
        "#EM for all parameters\n",
        "\n",
        "# transform data such that the distribution mean = 0 and std = 1\n",
        "scaler = preprocessing.StandardScaler()\n",
        "scaler.fit(x)\n",
        "scaled_x = scaler.transform(x)\n",
        "xs = pd.DataFrame(scaled_x, columns = x.columns)\n",
        "\n",
        "gmm = GaussianMixture(n_components=2, max_iter=1000, covariance_type='spherical', random_state=7)\n",
        "tic = time.perf_counter()\n",
        "gmm_y = gmm.fit_predict(xs)\n",
        "toc = time.perf_counter()\n",
        "labels = abs(gmm_y-1) #correct cluster-label scheme\n",
        "    \n",
        "acc = accuracy_score(y, labels)\n",
        "print(\"Accuracy using GMM = \", acc)\n",
        "\n",
        "tn, fp, fn, tp = confusion_matrix(y, labels).ravel()/y.size\n",
        "print(\"tp: \", tp)\n",
        "print(\"fp: \", fp)\n",
        "print(\"fn: \", fn)\n",
        "print(\"tn: \", tn)\n",
        "err = (fp + fn)\n",
        "print('err: ', err)\n",
        "print('time: ', (toc-tic))\n",
        "print(mean_squared_error(y, labels))\n",
        "print(mean_absolute_error(y, labels))\n",
        "print(np.mean(y-labels))\n",
        "print(np.std(y-labels))"
      ],
      "execution_count": 14,
      "outputs": [
        {
          "output_type": "stream",
          "name": "stdout",
          "text": [
            "Accuracy using GMM =  0.6705729166666666\n",
            "tp:  0.2890625\n",
            "fp:  0.26953125\n",
            "fn:  0.059895833333333336\n",
            "tn:  0.3815104166666667\n",
            "err:  0.3294270833333333\n",
            "time:  0.014404789000025175\n",
            "0.3294270833333333\n",
            "0.3294270833333333\n",
            "-0.20963541666666666\n",
            "0.5343033552321438\n"
          ]
        }
      ]
    },
    {
      "cell_type": "code",
      "source": [
        "# EM with only glucose level, Age, BMI \n",
        "x1=x.drop(['Pregnancies', 'BloodPressure', 'SkinThickness', 'Insulin' , 'DiabetesPedigreeFunction'], axis=1)\n",
        "\n",
        "# transform data such that the distribution mean = 0 and std = 1\n",
        "scaler = preprocessing.StandardScaler()\n",
        "scaler.fit(x1)\n",
        "scaled_x = scaler.transform(x1)\n",
        "xs = pd.DataFrame(scaled_x, columns = x1.columns)\n",
        "\n",
        "gmm = GaussianMixture(n_components=2, max_iter=1000, covariance_type='spherical', random_state=1)\n",
        "tic = time.perf_counter()\n",
        "gmm_y = gmm.fit_predict(xs)\n",
        "toc = time.perf_counter()\n",
        "labels = abs(gmm_y-1) #correct label scheme\n",
        "    \n",
        "acc = accuracy_score(y, labels)\n",
        "print(\"Accuracy using GMM = \", acc)\n",
        "\n",
        "tn, fp, fn, tp = confusion_matrix(y, labels).ravel()/y.size\n",
        "print(\"tp: \", tp)\n",
        "print(\"fp: \", fp)\n",
        "print(\"fn: \", fn)\n",
        "print(\"tn: \", tn)\n",
        "err = (fp + fn)\n",
        "print('err: ', err)\n",
        "print('time: ', (toc-tic))\n",
        "print(mean_squared_error(y, labels))\n",
        "print(mean_absolute_error(y, labels))\n",
        "print(np.mean(y-labels))\n",
        "print(np.std(y-labels))\n",
        "\n"
      ],
      "metadata": {
        "colab": {
          "base_uri": "https://localhost:8080/"
        },
        "id": "aG8M8pYy1qTP",
        "outputId": "83f46c9d-9d63-4128-b363-f768b39debfc"
      },
      "execution_count": 33,
      "outputs": [
        {
          "output_type": "stream",
          "name": "stdout",
          "text": [
            "Accuracy using GMM =  0.6809895833333334\n",
            "tp:  0.2643229166666667\n",
            "fp:  0.234375\n",
            "fn:  0.08463541666666667\n",
            "tn:  0.4166666666666667\n",
            "err:  0.3190104166666667\n",
            "time:  0.016004173999988325\n",
            "0.3190104166666667\n",
            "0.3190104166666667\n",
            "-0.14973958333333334\n",
            "0.544599370041709\n"
          ]
        }
      ]
    },
    {
      "cell_type": "code",
      "source": [
        "# EM with only glucose level, Age\n",
        "x1=x.drop(['Pregnancies', 'BloodPressure', 'SkinThickness', 'Insulin' , 'DiabetesPedigreeFunction', 'BMI'], axis=1)\n",
        "\n",
        "# transform data such that the distribution mean = 0 and std = 1\n",
        "scaler = preprocessing.StandardScaler()\n",
        "scaler.fit(x1)\n",
        "scaled_x = scaler.transform(x1)\n",
        "xs = pd.DataFrame(scaled_x, columns = x1.columns)\n",
        "\n",
        "\n",
        "gmm = GaussianMixture(n_components=2, max_iter=1000, covariance_type='spherical', random_state=7)\n",
        "tic = time.perf_counter()\n",
        "gmm_y = gmm.fit_predict(x1)\n",
        "toc = time.perf_counter()\n",
        "labels = abs(gmm_y-1) #correct label scheme\n",
        "    \n",
        "acc = accuracy_score(y, labels)\n",
        "print(\"Accuracy using GMM = \", acc)\n",
        "\n",
        "tn, fp, fn, tp = confusion_matrix(y, labels).ravel()/y.size\n",
        "print(\"tp: \", tp)\n",
        "print(\"fp: \", fp)\n",
        "print(\"fn: \", fn)\n",
        "print(\"tn: \", tn)\n",
        "err = (fp + fn)\n",
        "print('err: ', err)\n",
        "print('time: ', (toc-tic))\n",
        "print(mean_squared_error(y, labels))\n",
        "print(mean_absolute_error(y, labels))\n",
        "\n",
        "clx=xs\n",
        "clx['Cluster']=labels\n",
        "clx['Outcome']=y\n",
        "\n",
        "cl0 = clx.loc[clx['Cluster'] == 0]\n",
        "cl0tn = cl0.loc[cl0['Outcome'] == 0]   # true negatives\n",
        "cl0fn = cl0.loc[cl0['Outcome'] == 1]   # false negatives\n",
        "\n",
        "\n",
        "cl1 = clx.loc[clx['Cluster'] == 1]\n",
        "cl1tp = cl1.loc[cl1['Outcome'] == 1]   # true postives\n",
        "cl1fp = cl1.loc[cl1['Outcome'] == 0]   # false postives\n",
        "\n",
        "pyplot.scatter(cl0tn.Age, cl0tn.Glucose, color='red', label='true negative')\n",
        "pyplot.scatter(cl0fn.Age, cl0fn.Glucose, color='pink', label='false negative')\n",
        "#pyplot.scatter(cl_centers[0][1], cl_centers[0][0], color='black', marker='+', s=288, label='cluster 0 center')\n",
        "\n",
        "pyplot.scatter(cl1tp.Age, cl1tp.Glucose, color='blue', label='true positive')\n",
        "pyplot.scatter(cl1fp.Age, cl1fp.Glucose, color='cyan', label='false positive')\n",
        "#pyplot.scatter(cl_centers[1][1], cl_centers[1][0], color='black', marker='x', s=244, label='cluster 1 center')\n",
        "\n",
        "pyplot.title('EM Diabetes Cluster Plot - cov=diag')\n",
        "pyplot.ylabel('Glucose Level')\n",
        "pyplot.xlabel('Age')\n",
        "pyplot.legend()"
      ],
      "metadata": {
        "colab": {
          "base_uri": "https://localhost:8080/",
          "height": 469
        },
        "id": "neWoFbUOKQPy",
        "outputId": "778cf24f-62dc-475d-d931-9bc7c8a4811a"
      },
      "execution_count": 49,
      "outputs": [
        {
          "output_type": "stream",
          "name": "stdout",
          "text": [
            "Accuracy using GMM =  0.7356770833333334\n",
            "tp:  0.19270833333333334\n",
            "fp:  0.10807291666666667\n",
            "fn:  0.15625\n",
            "tn:  0.54296875\n",
            "err:  0.2643229166666667\n",
            "time:  0.007379712999977528\n",
            "0.2643229166666667\n",
            "0.2643229166666667\n"
          ]
        },
        {
          "output_type": "execute_result",
          "data": {
            "text/plain": [
              "<matplotlib.legend.Legend at 0x7fc29e17c1d0>"
            ]
          },
          "metadata": {},
          "execution_count": 49
        },
        {
          "output_type": "display_data",
          "data": {
            "text/plain": [
              "<Figure size 432x288 with 1 Axes>"
            ],
            "image/png": "[encoded data removed]"
          },
          "metadata": {
            "needs_background": "light"
          }
        }
      ]
    }
  ]
}