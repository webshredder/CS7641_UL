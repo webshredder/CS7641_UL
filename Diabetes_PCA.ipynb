{
  "nbformat": 4,
  "nbformat_minor": 0,
  "metadata": {
    "colab": {
      "provenance": [],
      "collapsed_sections": []
    },
    "kernelspec": {
      "name": "python3",
      "display_name": "Python 3"
    }
  },
  "cells": [
    {
      "cell_type": "markdown",
      "metadata": {
        "id": "view-in-github"
      },
      "source": [
        "<a href=\"https://colab.research.google.com/github/Anny8910/Decision-Tree-Classification-on-Diabetes-Dataset/blob/master/Diabetes_set_(Decision_tree).ipynb\" target=\"_parent\"><img src=\"https://colab.research.google.com/assets/colab-badge.svg\" alt=\"Open In Colab\"/></a>"
      ]
    },
    {
      "cell_type": "code",
      "metadata": {
        "id": "vU5U2E-eKKdD"
      },
      "source": [
        "#import libraries\n",
        "import pandas as pd\n",
        "import numpy as np\n",
        "import time\n",
        "from matplotlib import pyplot\n",
        "from sklearn.cluster import KMeans\n",
        "from sklearn import metrics\n",
        "from sklearn.metrics import confusion_matrix\n",
        "from sklearn.mixture import GaussianMixture\n",
        "from sklearn.metrics import mean_squared_error\n",
        "from sklearn.metrics import mean_absolute_error\n",
        "from sklearn.metrics import accuracy_score\n",
        "from sklearn import preprocessing\n",
        "from sklearn.decomposition import PCA"
      ],
      "execution_count": null,
      "outputs": []
    },
    {
      "cell_type": "code",
      "source": [
        "# load dataset from github account\n",
        "url = 'https://raw.githubusercontent.com/webshredder/CS7641-Assigment1/main/diabetes_dataset.csv'\n",
        "df = pd.read_csv(url,on_bad_lines='skip')\n",
        "df.head()"
      ],
      "metadata": {
        "colab": {
          "base_uri": "https://localhost:8080/",
          "height": 206
        },
        "id": "aUjiOB-Pb2f6",
        "outputId": "012e777e-35ea-4298-a117-ae55bf2e338e"
      },
      "execution_count": null,
      "outputs": [
        {
          "output_type": "execute_result",
          "data": {
            "text/plain": [
              "   Pregnancies  Glucose  BloodPressure  SkinThickness  Insulin   BMI  \\\n",
              "0            6      148             72             35        0  33.6   \n",
              "1            1       85             66             29        0  26.6   \n",
              "2            8      183             64              0        0  23.3   \n",
              "3            1       89             66             23       94  28.1   \n",
              "4            0      137             40             35      168  43.1   \n",
              "\n",
              "   DiabetesPedigreeFunction  Age  Outcome  \n",
              "0                     0.627   50        1  \n",
              "1                     0.351   31        0  \n",
              "2                     0.672   32        1  \n",
              "3                     0.167   21        0  \n",
              "4                     2.288   33        1  "
            ],
            "text/html": [
              "\n",
              "  <div id=\"df-0f110fab-b721-4041-8715-5f6084460d9b\">\n",
              "    <div class=\"colab-df-container\">\n",
              "      <div>\n",
              "<style scoped>\n",
              "    .dataframe tbody tr th:only-of-type {\n",
              "        vertical-align: middle;\n",
              "    }\n",
              "\n",
              "    .dataframe tbody tr th {\n",
              "        vertical-align: top;\n",
              "    }\n",
              "\n",
              "    .dataframe thead th {\n",
              "        text-align: right;\n",
              "    }\n",
              "</style>\n",
              "<table border=\"1\" class=\"dataframe\">\n",
              "  <thead>\n",
              "    <tr style=\"text-align: right;\">\n",
              "      <th></th>\n",
              "      <th>Pregnancies</th>\n",
              "      <th>Glucose</th>\n",
              "      <th>BloodPressure</th>\n",
              "      <th>SkinThickness</th>\n",
              "      <th>Insulin</th>\n",
              "      <th>BMI</th>\n",
              "      <th>DiabetesPedigreeFunction</th>\n",
              "      <th>Age</th>\n",
              "      <th>Outcome</th>\n",
              "    </tr>\n",
              "  </thead>\n",
              "  <tbody>\n",
              "    <tr>\n",
              "      <th>0</th>\n",
              "      <td>6</td>\n",
              "      <td>148</td>\n",
              "      <td>72</td>\n",
              "      <td>35</td>\n",
              "      <td>0</td>\n",
              "      <td>33.6</td>\n",
              "      <td>0.627</td>\n",
              "      <td>50</td>\n",
              "      <td>1</td>\n",
              "    </tr>\n",
              "    <tr>\n",
              "      <th>1</th>\n",
              "      <td>1</td>\n",
              "      <td>85</td>\n",
              "      <td>66</td>\n",
              "      <td>29</td>\n",
              "      <td>0</td>\n",
              "      <td>26.6</td>\n",
              "      <td>0.351</td>\n",
              "      <td>31</td>\n",
              "      <td>0</td>\n",
              "    </tr>\n",
              "    <tr>\n",
              "      <th>2</th>\n",
              "      <td>8</td>\n",
              "      <td>183</td>\n",
              "      <td>64</td>\n",
              "      <td>0</td>\n",
              "      <td>0</td>\n",
              "      <td>23.3</td>\n",
              "      <td>0.672</td>\n",
              "      <td>32</td>\n",
              "      <td>1</td>\n",
              "    </tr>\n",
              "    <tr>\n",
              "      <th>3</th>\n",
              "      <td>1</td>\n",
              "      <td>89</td>\n",
              "      <td>66</td>\n",
              "      <td>23</td>\n",
              "      <td>94</td>\n",
              "      <td>28.1</td>\n",
              "      <td>0.167</td>\n",
              "      <td>21</td>\n",
              "      <td>0</td>\n",
              "    </tr>\n",
              "    <tr>\n",
              "      <th>4</th>\n",
              "      <td>0</td>\n",
              "      <td>137</td>\n",
              "      <td>40</td>\n",
              "      <td>35</td>\n",
              "      <td>168</td>\n",
              "      <td>43.1</td>\n",
              "      <td>2.288</td>\n",
              "      <td>33</td>\n",
              "      <td>1</td>\n",
              "    </tr>\n",
              "  </tbody>\n",
              "</table>\n",
              "</div>\n",
              "      <button class=\"colab-df-convert\" onclick=\"convertToInteractive('df-0f110fab-b721-4041-8715-5f6084460d9b')\"\n",
              "              title=\"Convert this dataframe to an interactive table.\"\n",
              "              style=\"display:none;\">\n",
              "        \n",
              "  <svg xmlns=\"http://www.w3.org/2000/svg\" height=\"24px\"viewBox=\"0 0 24 24\"\n",
              "       width=\"24px\">\n",
              "    <path d=\"M0 0h24v24H0V0z\" fill=\"none\"/>\n",
              "    <path d=\"M18.56 5.44l.94 2.06.94-2.06 2.06-.94-2.06-.94-.94-2.06-.94 2.06-2.06.94zm-11 1L8.5 8.5l.94-2.06 2.06-.94-2.06-.94L8.5 2.5l-.94 2.06-2.06.94zm10 10l.94 2.06.94-2.06 2.06-.94-2.06-.94-.94-2.06-.94 2.06-2.06.94z\"/><path d=\"M17.41 7.96l-1.37-1.37c-.4-.4-.92-.59-1.43-.59-.52 0-1.04.2-1.43.59L10.3 9.45l-7.72 7.72c-.78.78-.78 2.05 0 2.83L4 21.41c.39.39.9.59 1.41.59.51 0 1.02-.2 1.41-.59l7.78-7.78 2.81-2.81c.8-.78.8-2.07 0-2.86zM5.41 20L4 18.59l7.72-7.72 1.47 1.35L5.41 20z\"/>\n",
              "  </svg>\n",
              "      </button>\n",
              "      \n",
              "  <style>\n",
              "    .colab-df-container {\n",
              "      display:flex;\n",
              "      flex-wrap:wrap;\n",
              "      gap: 12px;\n",
              "    }\n",
              "\n",
              "    .colab-df-convert {\n",
              "      background-color: #E8F0FE;\n",
              "      border: none;\n",
              "      border-radius: 50%;\n",
              "      cursor: pointer;\n",
              "      display: none;\n",
              "      fill: #1967D2;\n",
              "      height: 32px;\n",
              "      padding: 0 0 0 0;\n",
              "      width: 32px;\n",
              "    }\n",
              "\n",
              "    .colab-df-convert:hover {\n",
              "      background-color: #E2EBFA;\n",
              "      box-shadow: 0px 1px 2px rgba(60, 64, 67, 0.3), 0px 1px 3px 1px rgba(60, 64, 67, 0.15);\n",
              "      fill: #174EA6;\n",
              "    }\n",
              "\n",
              "    [theme=dark] .colab-df-convert {\n",
              "      background-color: #3B4455;\n",
              "      fill: #D2E3FC;\n",
              "    }\n",
              "\n",
              "    [theme=dark] .colab-df-convert:hover {\n",
              "      background-color: #434B5C;\n",
              "      box-shadow: 0px 1px 3px 1px rgba(0, 0, 0, 0.15);\n",
              "      filter: drop-shadow(0px 1px 2px rgba(0, 0, 0, 0.3));\n",
              "      fill: #FFFFFF;\n",
              "    }\n",
              "  </style>\n",
              "\n",
              "      <script>\n",
              "        const buttonEl =\n",
              "          document.querySelector('#df-0f110fab-b721-4041-8715-5f6084460d9b button.colab-df-convert');\n",
              "        buttonEl.style.display =\n",
              "          google.colab.kernel.accessAllowed ? 'block' : 'none';\n",
              "\n",
              "        async function convertToInteractive(key) {\n",
              "          const element = document.querySelector('#df-0f110fab-b721-4041-8715-5f6084460d9b');\n",
              "          const dataTable =\n",
              "            await google.colab.kernel.invokeFunction('convertToInteractive',\n",
              "                                                     [key], {});\n",
              "          if (!dataTable) return;\n",
              "\n",
              "          const docLinkHtml = 'Like what you see? Visit the ' +\n",
              "            '<a target=\"_blank\" href=https://colab.research.google.com/notebooks/data_table.ipynb>data table notebook</a>'\n",
              "            + ' to learn more about interactive tables.';\n",
              "          element.innerHTML = '';\n",
              "          dataTable['output_type'] = 'display_data';\n",
              "          await google.colab.output.renderOutput(dataTable, element);\n",
              "          const docLink = document.createElement('div');\n",
              "          docLink.innerHTML = docLinkHtml;\n",
              "          element.appendChild(docLink);\n",
              "        }\n",
              "      </script>\n",
              "    </div>\n",
              "  </div>\n",
              "  "
            ]
          },
          "metadata": {},
          "execution_count": 2
        }
      ]
    },
    {
      "cell_type": "code",
      "metadata": {
        "id": "ZHDE7n7fMXF1"
      },
      "source": [
        "#feature variables\n",
        "x=df.drop(['Outcome'], axis=1)\n",
        "#target variable\n",
        "y=df.Outcome\n",
        "\n"
      ],
      "execution_count": null,
      "outputs": []
    },
    {
      "cell_type": "code",
      "source": [
        "# transform data such that the distribution mean = 0 and std = 1\n",
        "scaler = preprocessing.StandardScaler()\n",
        "scaler.fit(x)\n",
        "scaled_x = scaler.transform(x)\n",
        "xs = pd.DataFrame(scaled_x, columns = x.columns)"
      ],
      "metadata": {
        "id": "XQmn39tAco9J"
      },
      "execution_count": null,
      "outputs": []
    },
    {
      "cell_type": "code",
      "source": [
        "#Scree plot PCA components\n",
        "comp = 6\n",
        "\n",
        "pca = PCA(n_components=comp)\n",
        "principalComponents = pca.fit_transform(xs)\n",
        "principalDf = pd.DataFrame(data = principalComponents, columns = ['principal component 1', 'principal component 2', 'principal component 3', 'principal component 4', 'principal component 5', 'principal component 6'])\n",
        "finalDf = pd.concat([principalDf, df[['Outcome']]], axis = 1)\n",
        "finalDf.head(10)\n",
        "\n",
        "print('Eigen vectors: ', pca.components_)\n",
        "print('Eigen values: ',pca.explained_variance_)\n",
        "print('Explained variance per PC: ', pca.explained_variance_ratio_)\n",
        "\n",
        "xPCA=[1, 2, 3, 4, 5, 6]\n",
        "\n",
        "pyplot.plot(xPCA,pca.explained_variance_, label='Eigen Values')\n",
        "pyplot.title('Diabetes Scree Plot')\n",
        "pyplot.ylabel('Eigen Values')\n",
        "pyplot.xlabel('PCA Component')\n",
        "pyplot.legend()\n",
        "pyplot.show()\n",
        "\n",
        "pyplot.plot(xPCA,pca.explained_variance_ratio_, label='Explained Variance')\n",
        "pyplot.title('Diabetes Explained Variance')\n",
        "pyplot.ylabel('Explained Variance')\n",
        "pyplot.xlabel('PCA Component')\n",
        "pyplot.legend()\n",
        "pyplot.show()"
      ],
      "metadata": {
        "colab": {
          "base_uri": "https://localhost:8080/",
          "height": 816
        },
        "id": "zfYNgT0rze0i",
        "outputId": "10ae9aa7-9070-4587-ef8e-3c45f2023663"
      },
      "execution_count": null,
      "outputs": [
        {
          "output_type": "stream",
          "name": "stdout",
          "text": [
            "Eigen vectors:  [[ 0.1284321   0.39308257  0.36000261  0.43982428  0.43502617  0.45194134\n",
            "   0.27061144  0.19802707]\n",
            " [ 0.59378583  0.17402908  0.18389207 -0.33196534 -0.25078106 -0.1009598\n",
            "  -0.122069    0.62058853]\n",
            " [-0.01308692  0.46792282 -0.53549442 -0.2376738   0.33670893 -0.36186463\n",
            "   0.43318905  0.07524755]\n",
            " [ 0.08069115 -0.40432871  0.05598649  0.03797608 -0.34994376  0.05364595\n",
            "   0.8336801   0.0712006 ]\n",
            " [-0.47560573  0.46632804  0.32795306 -0.48786206 -0.34693481  0.25320376\n",
            "   0.11981049 -0.10928996]\n",
            " [ 0.19359817  0.09416176 -0.6341159   0.00958944 -0.27065061  0.68537218\n",
            "  -0.08578409 -0.03335717]]\n",
            "Eigen values:  [2.09711056 1.73346726 1.03097228 0.87667054 0.76333832 0.68351839]\n",
            "Explained variance per PC:  [0.26179749 0.21640127 0.12870373 0.10944113 0.09529305 0.08532855]\n"
          ]
        },
        {
          "output_type": "display_data",
          "data": {
            "text/plain": [
              "<Figure size 432x288 with 1 Axes>"
            ],
            "image/png": "[encoded data removed]"
          },
          "metadata": {
            "needs_background": "light"
          }
        },
        {
          "output_type": "display_data",
          "data": {
            "text/plain": [
              "<Figure size 432x288 with 1 Axes>"
            ],
            "image/png": "[encoded data removed]"
          },
          "metadata": {
            "needs_background": "light"
          }
        }
      ]
    },
    {
      "cell_type": "code",
      "source": [
        "#Generate PCA components \n",
        "comp = 2\n",
        "\n",
        "pca = PCA(n_components=comp)\n",
        "principalComponents = pca.fit_transform(xs)\n",
        "principalDf = pd.DataFrame(data = principalComponents, columns = ['principal component 1', 'principal component 2'])\n",
        "finalDf = pd.concat([principalDf, df[['Outcome']]], axis = 1)\n",
        "finalDf.head(10)\n",
        "\n",
        "x2PCA = finalDf.drop(['Outcome'], axis=1)\n",
        "y2PCA = finalDf['Outcome']\n",
        "\n",
        "print('Eigen vectors: ', pca.components_)\n",
        "print('Eigen values: ',pca.explained_variance_)\n",
        "print('Explained variance per PC: ', pca.explained_variance_ratio_)\n",
        "\n",
        "if comp==2:\n",
        "   pyplot.scatter(finalDf['principal component 1'], finalDf['principal component 1'], c=finalDf['Outcome'])\n",
        "   pyplot.title('PCA Results - Diabetes Dataset')\n",
        "   pyplot.ylabel('PC2')\n",
        "   pyplot.xlabel('PC1')\n"
      ],
      "metadata": {
        "colab": {
          "base_uri": "https://localhost:8080/",
          "height": 399
        },
        "id": "xU4bhYx4d25d",
        "outputId": "37d7e560-4c57-4c96-b9cb-b06a83e0ac63"
      },
      "execution_count": null,
      "outputs": [
        {
          "output_type": "stream",
          "name": "stdout",
          "text": [
            "Eigen vectors:  [[ 0.1284321   0.39308257  0.36000261  0.43982428  0.43502617  0.45194134\n",
            "   0.27061144  0.19802707]\n",
            " [ 0.59378583  0.17402908  0.18389207 -0.33196534 -0.25078106 -0.1009598\n",
            "  -0.122069    0.62058853]]\n",
            "Eigen values:  [2.09711056 1.73346726]\n",
            "Explained variance per PC:  [0.26179749 0.21640127]\n"
          ]
        },
        {
          "output_type": "display_data",
          "data": {
            "text/plain": [
              "<Figure size 432x288 with 1 Axes>"
            ],
            "image/png": "[encoded data removed]"
          },
          "metadata": {
            "needs_background": "light"
          }
        }
      ]
    },
    {
      "cell_type": "code",
      "source": [
        "# 2 component KMeans\n",
        "\n",
        "kmeans = KMeans(n_clusters=2, random_state=1) \n",
        "tic = time.perf_counter()\n",
        "labels = kmeans.fit_predict(x2PCA)\n",
        "toc = time.perf_counter()\n",
        "labels = abs(labels - 1) #map cluster number to labels \n",
        "\n",
        "tn, fp, fn, tp = confusion_matrix(y2PCA, labels).ravel()/y2PCA.size\n",
        "print(\"tp: \", tp)\n",
        "print(\"fp: \", fp)\n",
        "print(\"fn: \", fn)\n",
        "print(\"tn: \", tn)\n",
        "err = (fp + fn)\n",
        "print('err: ', err)\n",
        "print('time: ', (toc-tic))\n",
        "print(mean_squared_error(y2PCA, labels))\n",
        "print(mean_absolute_error(y2PCA, labels))\n",
        "print(np.mean(y2PCA-labels))\n",
        "print(np.std(y2PCA-labels))\n",
        "\n",
        "#\n",
        "clx=finalDf\n",
        "clx['Cluster']=labels\n",
        "cl_centers=kmeans.cluster_centers_\n",
        "\n",
        "cl0 = clx.loc[clx['Cluster'] == 0]\n",
        "cl0tn = cl0.loc[cl0['Outcome'] == 0]   # true negatives\n",
        "cl0fn = cl0.loc[cl0['Outcome'] == 1]   # false negatives\n",
        "\n",
        "\n",
        "cl1 = clx.loc[clx['Cluster'] == 1]\n",
        "cl1tp = cl1.loc[cl1['Outcome'] == 1]   # true postives\n",
        "cl1fp = cl1.loc[cl1['Outcome'] == 0]   # false postives\n",
        "\n",
        "pyplot.scatter(cl0tn['principal component 1'], cl0tn['principal component 2'], color='red', label='true negative')\n",
        "pyplot.scatter(cl0fn['principal component 1'], cl0fn['principal component 2'], color='pink', label='false negative')\n",
        "pyplot.scatter(cl_centers[0][1], cl_centers[0][0], color='black', marker='+', s=288, label='cluster 0 center')\n",
        "\n",
        "pyplot.scatter(cl1tp['principal component 1'], cl1tp['principal component 2'], color='blue', label='true positive')\n",
        "pyplot.scatter(cl1fp['principal component 1'], cl1fp['principal component 2'], color='cyan', label='false positive')\n",
        "pyplot.scatter(cl_centers[1][1], cl_centers[1][0], color='black', marker='x', s=244, label='cluster 1 center')\n",
        "\n",
        "pyplot.title('Diabetes PCA Cluster Plot ')\n",
        "pyplot.ylabel('PC 2')\n",
        "pyplot.xlabel('PC 1')\n",
        "pyplot.legend()"
      ],
      "metadata": {
        "colab": {
          "base_uri": "https://localhost:8080/",
          "height": 486
        },
        "id": "7Q_PhSl7gUDf",
        "outputId": "1d58b907-12d0-410b-86b1-e5daf515b200"
      },
      "execution_count": null,
      "outputs": [
        {
          "output_type": "stream",
          "name": "stdout",
          "text": [
            "tp:  0.19140625\n",
            "fp:  0.16796875\n",
            "fn:  0.15755208333333334\n",
            "tn:  0.4830729166666667\n",
            "err:  0.32552083333333337\n",
            "time:  0.04207838500042271\n",
            "0.3255208333333333\n",
            "0.3255208333333333\n",
            "-0.010416666666666666\n",
            "0.5704492320872112\n"
          ]
        },
        {
          "output_type": "execute_result",
          "data": {
            "text/plain": [
              "<matplotlib.legend.Legend at 0x7f2290984310>"
            ]
          },
          "metadata": {},
          "execution_count": 112
        },
        {
          "output_type": "display_data",
          "data": {
            "text/plain": [
              "<Figure size 432x288 with 1 Axes>"
            ],
            "image/png": "[encoded data removed]"
          },
          "metadata": {
            "needs_background": "light"
          }
        }
      ]
    },
    {
      "cell_type": "code",
      "source": [
        "# 2 component EM\n",
        "gmm = GaussianMixture(n_components=2, max_iter=1000, covariance_type='spherical', random_state=7)\n",
        "tic = time.perf_counter()\n",
        "gmm_y = gmm.fit_predict(x2PCA)\n",
        "toc = time.perf_counter()\n",
        "labels = abs(gmm_y-1) #correct cluster-label scheme\n",
        "    \n",
        "acc = accuracy_score(y2PCA, labels)\n",
        "print(\"Accuracy using GMM = \", acc)\n",
        "\n",
        "tn, fp, fn, tp = confusion_matrix(y2PCA, labels).ravel()/y2PCA.size\n",
        "print(\"tp: \", tp)\n",
        "print(\"fp: \", fp)\n",
        "print(\"fn: \", fn)\n",
        "print(\"tn: \", tn)\n",
        "err = (fp + fn)\n",
        "print('err: ', err)\n",
        "print('time: ', (toc-tic))\n",
        "print(mean_squared_error(y2PCA, labels))\n",
        "print(mean_absolute_error(y2PCA, labels))\n",
        "print(np.mean(y2PCA-labels))\n",
        "print(np.std(y2PCA-labels))"
      ],
      "metadata": {
        "colab": {
          "base_uri": "https://localhost:8080/"
        },
        "id": "daIUAzTO6iuk",
        "outputId": "077909e6-c74b-49ae-caa7-ce5bd35ed346"
      },
      "execution_count": null,
      "outputs": [
        {
          "output_type": "stream",
          "name": "stdout",
          "text": [
            "Accuracy using GMM =  0.6302083333333334\n",
            "tp:  0.2994791666666667\n",
            "fp:  0.3203125\n",
            "fn:  0.049479166666666664\n",
            "tn:  0.3307291666666667\n",
            "err:  0.3697916666666667\n",
            "time:  0.024361267000131193\n",
            "0.3697916666666667\n",
            "0.3697916666666667\n",
            "-0.2708333333333333\n",
            "0.5444639310571658\n"
          ]
        }
      ]
    },
    {
      "cell_type": "code",
      "source": [
        "#Generate PCA components \n",
        "comp = 3\n",
        "\n",
        "pca = PCA(n_components=comp)\n",
        "principalComponents = pca.fit_transform(xs)\n",
        "principalDf = pd.DataFrame(data = principalComponents, columns = ['principal component 1', 'principal component 2', 'principal component 3'])\n",
        "finalDf = pd.concat([principalDf, df[['Outcome']]], axis = 1)\n",
        "finalDf.head(10)\n",
        "\n",
        "x3PCA = finalDf.drop(['Outcome'], axis=1)\n",
        "y3PCA = finalDf['Outcome']\n",
        "\n",
        "print('Eigen vectors: ', pca.components_)\n",
        "print('Eigen values: ',pca.explained_variance_)\n",
        "print('Explained variance per PC: ', pca.explained_variance_ratio_)"
      ],
      "metadata": {
        "colab": {
          "base_uri": "https://localhost:8080/"
        },
        "id": "3Vp2_SJ15yoG",
        "outputId": "626e4331-d284-4cec-fcd8-842350e6747a"
      },
      "execution_count": null,
      "outputs": [
        {
          "output_type": "stream",
          "name": "stdout",
          "text": [
            "Eigen vectors:  [[ 0.1284321   0.39308257  0.36000261  0.43982428  0.43502617  0.45194134\n",
            "   0.27061144  0.19802707]\n",
            " [ 0.59378583  0.17402908  0.18389207 -0.33196534 -0.25078106 -0.1009598\n",
            "  -0.122069    0.62058853]\n",
            " [-0.01308692  0.46792282 -0.53549442 -0.2376738   0.33670893 -0.36186463\n",
            "   0.43318905  0.07524755]]\n",
            "Eigen values:  [2.09711056 1.73346726 1.03097228]\n",
            "Explained variance per PC:  [0.26179749 0.21640127 0.12870373]\n"
          ]
        }
      ]
    },
    {
      "cell_type": "code",
      "source": [
        "# 3 component KMeans\n",
        "kmeans = KMeans(n_clusters=2, random_state=1) \n",
        "tic = time.perf_counter()\n",
        "labels = kmeans.fit_predict(x3PCA)\n",
        "toc = time.perf_counter()\n",
        "labels = abs(labels - 1) #map cluster number to labels \n",
        "\n",
        "tn, fp, fn, tp = confusion_matrix(y3PCA, labels).ravel()/y3PCA.size\n",
        "print(\"tp: \", tp)\n",
        "print(\"fp: \", fp)\n",
        "print(\"fn: \", fn)\n",
        "print(\"tn: \", tn)\n",
        "err = (fp + fn)\n",
        "print('err: ', err)\n",
        "print('time: ', (toc-tic))\n",
        "print(mean_squared_error(y3PCA, labels))\n",
        "print(mean_absolute_error(y3PCA, labels))\n",
        "print(np.mean(y3PCA-labels))\n",
        "print(np.std(y3PCA-labels))\n"
      ],
      "metadata": {
        "colab": {
          "base_uri": "https://localhost:8080/"
        },
        "id": "p2F0xVu3537k",
        "outputId": "b5e3cd36-a0e8-43f0-94a2-1449b630ae17"
      },
      "execution_count": null,
      "outputs": [
        {
          "output_type": "stream",
          "name": "stdout",
          "text": [
            "tp:  0.19140625\n",
            "fp:  0.16796875\n",
            "fn:  0.15755208333333334\n",
            "tn:  0.4830729166666667\n",
            "err:  0.32552083333333337\n",
            "time:  0.061857796001277165\n",
            "0.3255208333333333\n",
            "0.3255208333333333\n",
            "-0.010416666666666666\n",
            "0.5704492320872112\n"
          ]
        }
      ]
    },
    {
      "cell_type": "code",
      "source": [
        "# 3 component EM\n",
        "gmm = GaussianMixture(n_components=2, max_iter=1000, covariance_type='spherical', random_state=7)\n",
        "tic = time.perf_counter()\n",
        "gmm_y = gmm.fit_predict(x3PCA)\n",
        "toc = time.perf_counter()\n",
        "labels = abs(gmm_y-1) #correct cluster-label scheme\n",
        "    \n",
        "acc = accuracy_score(y3PCA, labels)\n",
        "print(\"Accuracy using GMM = \", acc)\n",
        "\n",
        "tn, fp, fn, tp = confusion_matrix(y3PCA, labels).ravel()/y3PCA.size\n",
        "print(\"tp: \", tp)\n",
        "print(\"fp: \", fp)\n",
        "print(\"fn: \", fn)\n",
        "print(\"tn: \", tn)\n",
        "err = (fp + fn)\n",
        "print('err: ', err)\n",
        "print('time: ', (toc-tic))\n",
        "print(mean_squared_error(y3PCA, labels))\n",
        "print(mean_absolute_error(y3PCA, labels))\n",
        "print(np.mean(y3PCA-labels))\n",
        "print(np.std(y3PCA-labels))"
      ],
      "metadata": {
        "colab": {
          "base_uri": "https://localhost:8080/"
        },
        "id": "b4wYDuOw7a3W",
        "outputId": "2a67f6fc-7b87-4d12-a68c-9ac8472638db"
      },
      "execution_count": null,
      "outputs": [
        {
          "output_type": "stream",
          "name": "stdout",
          "text": [
            "Accuracy using GMM =  0.6536458333333334\n",
            "tp:  0.2903645833333333\n",
            "fp:  0.2877604166666667\n",
            "fn:  0.05859375\n",
            "tn:  0.36328125\n",
            "err:  0.3463541666666667\n",
            "time:  0.025994374000219977\n",
            "0.3463541666666667\n",
            "0.3463541666666667\n",
            "-0.22916666666666666\n",
            "0.542067159635737\n"
          ]
        }
      ]
    }
  ]
}