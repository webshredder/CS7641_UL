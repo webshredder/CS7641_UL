{
  "nbformat": 4,
  "nbformat_minor": 0,
  "metadata": {
    "colab": {
      "provenance": [],
      "collapsed_sections": []
    },
    "kernelspec": {
      "name": "python3",
      "display_name": "Python 3"
    }
  },
  "cells": [
    {
      "cell_type": "markdown",
      "metadata": {
        "id": "view-in-github"
      },
      "source": [
        "<a href=\"https://colab.research.google.com/github/Anny8910/Decision-Tree-Classification-on-Diabetes-Dataset/blob/master/Diabetes_set_(Decision_tree).ipynb\" target=\"_parent\"><img src=\"https://colab.research.google.com/assets/colab-badge.svg\" alt=\"Open In Colab\"/></a>"
      ]
    },
    {
      "cell_type": "code",
      "metadata": {
        "id": "vU5U2E-eKKdD"
      },
      "source": [
        "#import libraries\n",
        "import pandas as pd\n",
        "import numpy as np\n",
        "import time\n",
        "from matplotlib import pyplot\n",
        "from sklearn.cluster import KMeans\n",
        "from sklearn import metrics\n",
        "from sklearn.metrics import confusion_matrix\n",
        "from sklearn.mixture import GaussianMixture\n",
        "from sklearn.metrics import mean_squared_error\n",
        "from sklearn.metrics import mean_absolute_error\n",
        "from sklearn.metrics import accuracy_score\n",
        "from sklearn import preprocessing\n",
        "from sklearn.decomposition import PCA\n",
        "import statistics"
      ],
      "execution_count": 31,
      "outputs": []
    },
    {
      "cell_type": "code",
      "source": [
        "# load dataset from github account\n",
        "url = 'https://raw.githubusercontent.com/webshredder/CS7641-Assigment1/main/winequalityN.csv'\n",
        "df = pd.read_csv(url,on_bad_lines='skip')\n",
        "df.head()"
      ],
      "metadata": {
        "colab": {
          "base_uri": "https://localhost:8080/",
          "height": 206
        },
        "id": "aUjiOB-Pb2f6",
        "outputId": "33d503c7-b7a9-4e39-c3ee-68811f648143"
      },
      "execution_count": 2,
      "outputs": [
        {
          "output_type": "execute_result",
          "data": {
            "text/plain": [
              "   type  fixed acidity  volatile acidity  citric acid  residual sugar  \\\n",
              "0     1            7.0              0.27         0.36            20.7   \n",
              "1     1            6.3              0.30         0.34             1.6   \n",
              "2     1            8.1              0.28         0.40             6.9   \n",
              "3     1            7.2              0.23         0.32             8.5   \n",
              "4     1            7.2              0.23         0.32             8.5   \n",
              "\n",
              "   chlorides  free sulfur dioxide  total sulfur dioxide  density    pH  \\\n",
              "0      0.045                 45.0                 170.0   1.0010  3.00   \n",
              "1      0.049                 14.0                 132.0   0.9940  3.30   \n",
              "2      0.050                 30.0                  97.0   0.9951  3.26   \n",
              "3      0.058                 47.0                 186.0   0.9956  3.19   \n",
              "4      0.058                 47.0                 186.0   0.9956  3.19   \n",
              "\n",
              "   sulphates  alcohol  quality  \n",
              "0       0.45      8.8        6  \n",
              "1       0.49      9.5        6  \n",
              "2       0.44     10.1        6  \n",
              "3       0.40      9.9        6  \n",
              "4       0.40      9.9        6  "
            ],
            "text/html": [
              "\n",
              "  <div id=\"df-6678d9c0-3c64-4827-9fcb-762cdd726725\">\n",
              "    <div class=\"colab-df-container\">\n",
              "      <div>\n",
              "<style scoped>\n",
              "    .dataframe tbody tr th:only-of-type {\n",
              "        vertical-align: middle;\n",
              "    }\n",
              "\n",
              "    .dataframe tbody tr th {\n",
              "        vertical-align: top;\n",
              "    }\n",
              "\n",
              "    .dataframe thead th {\n",
              "        text-align: right;\n",
              "    }\n",
              "</style>\n",
              "<table border=\"1\" class=\"dataframe\">\n",
              "  <thead>\n",
              "    <tr style=\"text-align: right;\">\n",
              "      <th></th>\n",
              "      <th>type</th>\n",
              "      <th>fixed acidity</th>\n",
              "      <th>volatile acidity</th>\n",
              "      <th>citric acid</th>\n",
              "      <th>residual sugar</th>\n",
              "      <th>chlorides</th>\n",
              "      <th>free sulfur dioxide</th>\n",
              "      <th>total sulfur dioxide</th>\n",
              "      <th>density</th>\n",
              "      <th>pH</th>\n",
              "      <th>sulphates</th>\n",
              "      <th>alcohol</th>\n",
              "      <th>quality</th>\n",
              "    </tr>\n",
              "  </thead>\n",
              "  <tbody>\n",
              "    <tr>\n",
              "      <th>0</th>\n",
              "      <td>1</td>\n",
              "      <td>7.0</td>\n",
              "      <td>0.27</td>\n",
              "      <td>0.36</td>\n",
              "      <td>20.7</td>\n",
              "      <td>0.045</td>\n",
              "      <td>45.0</td>\n",
              "      <td>170.0</td>\n",
              "      <td>1.0010</td>\n",
              "      <td>3.00</td>\n",
              "      <td>0.45</td>\n",
              "      <td>8.8</td>\n",
              "      <td>6</td>\n",
              "    </tr>\n",
              "    <tr>\n",
              "      <th>1</th>\n",
              "      <td>1</td>\n",
              "      <td>6.3</td>\n",
              "      <td>0.30</td>\n",
              "      <td>0.34</td>\n",
              "      <td>1.6</td>\n",
              "      <td>0.049</td>\n",
              "      <td>14.0</td>\n",
              "      <td>132.0</td>\n",
              "      <td>0.9940</td>\n",
              "      <td>3.30</td>\n",
              "      <td>0.49</td>\n",
              "      <td>9.5</td>\n",
              "      <td>6</td>\n",
              "    </tr>\n",
              "    <tr>\n",
              "      <th>2</th>\n",
              "      <td>1</td>\n",
              "      <td>8.1</td>\n",
              "      <td>0.28</td>\n",
              "      <td>0.40</td>\n",
              "      <td>6.9</td>\n",
              "      <td>0.050</td>\n",
              "      <td>30.0</td>\n",
              "      <td>97.0</td>\n",
              "      <td>0.9951</td>\n",
              "      <td>3.26</td>\n",
              "      <td>0.44</td>\n",
              "      <td>10.1</td>\n",
              "      <td>6</td>\n",
              "    </tr>\n",
              "    <tr>\n",
              "      <th>3</th>\n",
              "      <td>1</td>\n",
              "      <td>7.2</td>\n",
              "      <td>0.23</td>\n",
              "      <td>0.32</td>\n",
              "      <td>8.5</td>\n",
              "      <td>0.058</td>\n",
              "      <td>47.0</td>\n",
              "      <td>186.0</td>\n",
              "      <td>0.9956</td>\n",
              "      <td>3.19</td>\n",
              "      <td>0.40</td>\n",
              "      <td>9.9</td>\n",
              "      <td>6</td>\n",
              "    </tr>\n",
              "    <tr>\n",
              "      <th>4</th>\n",
              "      <td>1</td>\n",
              "      <td>7.2</td>\n",
              "      <td>0.23</td>\n",
              "      <td>0.32</td>\n",
              "      <td>8.5</td>\n",
              "      <td>0.058</td>\n",
              "      <td>47.0</td>\n",
              "      <td>186.0</td>\n",
              "      <td>0.9956</td>\n",
              "      <td>3.19</td>\n",
              "      <td>0.40</td>\n",
              "      <td>9.9</td>\n",
              "      <td>6</td>\n",
              "    </tr>\n",
              "  </tbody>\n",
              "</table>\n",
              "</div>\n",
              "      <button class=\"colab-df-convert\" onclick=\"convertToInteractive('df-6678d9c0-3c64-4827-9fcb-762cdd726725')\"\n",
              "              title=\"Convert this dataframe to an interactive table.\"\n",
              "              style=\"display:none;\">\n",
              "        \n",
              "  <svg xmlns=\"http://www.w3.org/2000/svg\" height=\"24px\"viewBox=\"0 0 24 24\"\n",
              "       width=\"24px\">\n",
              "    <path d=\"M0 0h24v24H0V0z\" fill=\"none\"/>\n",
              "    <path d=\"M18.56 5.44l.94 2.06.94-2.06 2.06-.94-2.06-.94-.94-2.06-.94 2.06-2.06.94zm-11 1L8.5 8.5l.94-2.06 2.06-.94-2.06-.94L8.5 2.5l-.94 2.06-2.06.94zm10 10l.94 2.06.94-2.06 2.06-.94-2.06-.94-.94-2.06-.94 2.06-2.06.94z\"/><path d=\"M17.41 7.96l-1.37-1.37c-.4-.4-.92-.59-1.43-.59-.52 0-1.04.2-1.43.59L10.3 9.45l-7.72 7.72c-.78.78-.78 2.05 0 2.83L4 21.41c.39.39.9.59 1.41.59.51 0 1.02-.2 1.41-.59l7.78-7.78 2.81-2.81c.8-.78.8-2.07 0-2.86zM5.41 20L4 18.59l7.72-7.72 1.47 1.35L5.41 20z\"/>\n",
              "  </svg>\n",
              "      </button>\n",
              "      \n",
              "  <style>\n",
              "    .colab-df-container {\n",
              "      display:flex;\n",
              "      flex-wrap:wrap;\n",
              "      gap: 12px;\n",
              "    }\n",
              "\n",
              "    .colab-df-convert {\n",
              "      background-color: #E8F0FE;\n",
              "      border: none;\n",
              "      border-radius: 50%;\n",
              "      cursor: pointer;\n",
              "      display: none;\n",
              "      fill: #1967D2;\n",
              "      height: 32px;\n",
              "      padding: 0 0 0 0;\n",
              "      width: 32px;\n",
              "    }\n",
              "\n",
              "    .colab-df-convert:hover {\n",
              "      background-color: #E2EBFA;\n",
              "      box-shadow: 0px 1px 2px rgba(60, 64, 67, 0.3), 0px 1px 3px 1px rgba(60, 64, 67, 0.15);\n",
              "      fill: #174EA6;\n",
              "    }\n",
              "\n",
              "    [theme=dark] .colab-df-convert {\n",
              "      background-color: #3B4455;\n",
              "      fill: #D2E3FC;\n",
              "    }\n",
              "\n",
              "    [theme=dark] .colab-df-convert:hover {\n",
              "      background-color: #434B5C;\n",
              "      box-shadow: 0px 1px 3px 1px rgba(0, 0, 0, 0.15);\n",
              "      filter: drop-shadow(0px 1px 2px rgba(0, 0, 0, 0.3));\n",
              "      fill: #FFFFFF;\n",
              "    }\n",
              "  </style>\n",
              "\n",
              "      <script>\n",
              "        const buttonEl =\n",
              "          document.querySelector('#df-6678d9c0-3c64-4827-9fcb-762cdd726725 button.colab-df-convert');\n",
              "        buttonEl.style.display =\n",
              "          google.colab.kernel.accessAllowed ? 'block' : 'none';\n",
              "\n",
              "        async function convertToInteractive(key) {\n",
              "          const element = document.querySelector('#df-6678d9c0-3c64-4827-9fcb-762cdd726725');\n",
              "          const dataTable =\n",
              "            await google.colab.kernel.invokeFunction('convertToInteractive',\n",
              "                                                     [key], {});\n",
              "          if (!dataTable) return;\n",
              "\n",
              "          const docLinkHtml = 'Like what you see? Visit the ' +\n",
              "            '<a target=\"_blank\" href=https://colab.research.google.com/notebooks/data_table.ipynb>data table notebook</a>'\n",
              "            + ' to learn more about interactive tables.';\n",
              "          element.innerHTML = '';\n",
              "          dataTable['output_type'] = 'display_data';\n",
              "          await google.colab.output.renderOutput(dataTable, element);\n",
              "          const docLink = document.createElement('div');\n",
              "          docLink.innerHTML = docLinkHtml;\n",
              "          element.appendChild(docLink);\n",
              "        }\n",
              "      </script>\n",
              "    </div>\n",
              "  </div>\n",
              "  "
            ]
          },
          "metadata": {},
          "execution_count": 2
        }
      ]
    },
    {
      "cell_type": "code",
      "metadata": {
        "id": "ZHDE7n7fMXF1"
      },
      "source": [
        "#feature variables\n",
        "x=df.drop(['quality'], axis=1)\n",
        "#target variable\n",
        "y=df.quality\n",
        "\n"
      ],
      "execution_count": 3,
      "outputs": []
    },
    {
      "cell_type": "code",
      "source": [
        "# transform data such that the distribution mean = 0 and std = 1\n",
        "scaler = preprocessing.StandardScaler()\n",
        "scaler.fit(x)\n",
        "scaled_x = scaler.transform(x)\n",
        "xs = pd.DataFrame(scaled_x, columns = x.columns)"
      ],
      "metadata": {
        "id": "XQmn39tAco9J"
      },
      "execution_count": 13,
      "outputs": []
    },
    {
      "cell_type": "code",
      "source": [
        "#Scree plot PCA components\n",
        "comp = 9\n",
        "\n",
        "pca = PCA(n_components=comp)\n",
        "principalComponents = pca.fit_transform(xs)\n",
        "principalDf = pd.DataFrame(data = principalComponents, columns = ['principal component 1', 'principal component 2', 'principal component 3', 'principal component 4', 'principal component 5', 'principal component 6', 'principal component 7', 'principal component 8', 'principal component 9'])\n",
        "finalDf = pd.concat([principalDf, df[['quality']]], axis = 1)\n",
        "finalDf.head(10)\n",
        "\n",
        "print('Eigen vectors: ', pca.components_)\n",
        "print('Eigen values: ',pca.explained_variance_)\n",
        "print('Explained variance per PC: ', pca.explained_variance_ratio_)\n",
        "\n",
        "xPCA=[1, 2, 3, 4, 5, 6, 7, 8, 9]\n",
        "\n",
        "pyplot.plot(xPCA,pca.explained_variance_, label='Eigen Values')\n",
        "pyplot.title('Wine Quality Scree Plot')\n",
        "pyplot.ylabel('Eigen Values')\n",
        "pyplot.xlabel('PCA Component')\n",
        "pyplot.legend()\n",
        "pyplot.show()\n",
        "\n",
        "pyplot.plot(xPCA,pca.explained_variance_ratio_, label='Explained Variance')\n",
        "pyplot.title('Wine Quality Explained Variance')\n",
        "pyplot.ylabel('Explained Variance')\n",
        "pyplot.xlabel('PCA Component')\n",
        "pyplot.legend()\n",
        "pyplot.show()"
      ],
      "metadata": {
        "colab": {
          "base_uri": "https://localhost:8080/",
          "height": 975
        },
        "id": "VR61g0NfAp5B",
        "outputId": "2fbb8d6f-0397-4b44-ea2e-17f13f663920"
      },
      "execution_count": 15,
      "outputs": [
        {
          "output_type": "stream",
          "name": "stdout",
          "text": [
            "Eigen vectors:  [[ 0.47058767  0.25874751  0.35884302 -0.11260144 -0.24536194  0.29575945\n",
            "  -0.34537943 -0.41258885  0.14352849  0.17935133  0.28261109  0.01790447]\n",
            " [ 0.07511463  0.27107825  0.03326336  0.20767937  0.39878829  0.2402179\n",
            "   0.17094455  0.19265571  0.56076495 -0.19384841  0.1206607  -0.47641228]\n",
            " [-0.04927707  0.4488607  -0.28749161  0.58650524 -0.17191236  0.00661142\n",
            "  -0.15569072 -0.12562298 -0.1608734  -0.44938031  0.09086713  0.25250339]\n",
            " [ 0.01623497 -0.1663672  -0.2172377   0.26728985 -0.16241974  0.23529635\n",
            "   0.36178801  0.21096779 -0.07334975  0.41840808  0.63516641  0.11134588]\n",
            " [-0.07676209 -0.15355922  0.15098581 -0.16157212 -0.35429005  0.64085085\n",
            "   0.17682195  0.14057956 -0.2958799  -0.43954771 -0.10222657 -0.20781637]\n",
            " [ 0.10888387  0.21737851  0.48328371 -0.20136881  0.1890347  -0.16974075\n",
            "   0.42030935  0.17859578 -0.0396984  -0.29297527  0.21574881  0.50962523]\n",
            " [ 0.16203051  0.28556409  0.2385939   0.33729238 -0.32696995 -0.02156\n",
            "   0.36021943  0.14233691  0.01815605  0.38201637 -0.56332002 -0.02276959]\n",
            " [-0.04059473 -0.32573979  0.19038597  0.35599498  0.47604118  0.46816524\n",
            "  -0.1608321  -0.09232326  0.00979627  0.11153637 -0.24445369  0.42046169]\n",
            " [ 0.23629882  0.17291562 -0.56635731 -0.34486956  0.1443266   0.24694462\n",
            "   0.40265215 -0.36888601  0.07218888  0.01999795 -0.21228066  0.20946539]]\n",
            "Eigen values:  [3.81350859 2.52914039 1.56019841 0.97139165 0.72416457 0.61258815\n",
            " 0.53628315 0.50225932 0.35214681]\n",
            "Explained variance per PC:  [0.3177432  0.21072908 0.12999641 0.08093678 0.06033771 0.05104111\n",
            " 0.04468335 0.04184846 0.02934103]\n"
          ]
        },
        {
          "output_type": "display_data",
          "data": {
            "text/plain": [
              "<Figure size 432x288 with 1 Axes>"
            ],
            "image/png": "[encoded data removed]"
          },
          "metadata": {
            "needs_background": "light"
          }
        },
        {
          "output_type": "display_data",
          "data": {
            "text/plain": [
              "<Figure size 432x288 with 1 Axes>"
            ],
            "image/png": "[encoded data removed]"
          },
          "metadata": {
            "needs_background": "light"
          }
        }
      ]
    },
    {
      "cell_type": "code",
      "source": [
        "#Generate PCA components = 3\n",
        "comp = 3\n",
        "\n",
        "pca = PCA(n_components=comp)\n",
        "principalComponents = pca.fit_transform(xs)\n",
        "principalDf = pd.DataFrame(data = principalComponents, columns = ['principal component 1', 'principal component 2', 'principal component 3'])\n",
        "finalDf = pd.concat([principalDf, df[['quality']]], axis = 1)\n",
        "print(finalDf.head(10))\n",
        "\n",
        "print('Eigen vectors: ', pca.components_)\n",
        "print('Eigen values: ',pca.explained_variance_)\n",
        "print('Explained variance per PC: ', pca.explained_variance_ratio_)\n",
        "\n",
        "if comp==2:\n",
        "   pyplot.scatter(finalDf['principal component 1'], finalDf['principal component 1'], c=finalDf['quality'])\n",
        "   pyplot.title('PCA Results - Diabetes Dataset')\n",
        "   pyplot.ylabel('PC2')\n",
        "   pyplot.xlabel('PC1')\n"
      ],
      "metadata": {
        "colab": {
          "base_uri": "https://localhost:8080/"
        },
        "id": "xU4bhYx4d25d",
        "outputId": "5df99c32-1813-493b-c6f9-ce650ae1c556"
      },
      "execution_count": 20,
      "outputs": [
        {
          "output_type": "stream",
          "name": "stdout",
          "text": [
            "   principal component 1  principal component 2  principal component 3  \\\n",
            "0              -2.176367               3.535401              -0.694878   \n",
            "1              -0.248935              -0.552194              -0.314149   \n",
            "2              -0.378902               0.365109               0.481012   \n",
            "3              -1.733873               0.933956              -0.366839   \n",
            "4              -1.733873               0.933956              -0.366839   \n",
            "5              -0.378902               0.365109               0.481012   \n",
            "6              -0.865874               0.023467              -1.159144   \n",
            "7              -2.176367               3.535401              -0.694878   \n",
            "8              -0.248935              -0.552194              -0.314149   \n",
            "9              -0.573958              -0.554034               1.225518   \n",
            "\n",
            "   quality  \n",
            "0        6  \n",
            "1        6  \n",
            "2        6  \n",
            "3        6  \n",
            "4        6  \n",
            "5        6  \n",
            "6        6  \n",
            "7        6  \n",
            "8        6  \n",
            "9        6  \n",
            "Eigen vectors:  [[ 0.47058767  0.25874751  0.35884302 -0.11260144 -0.24536194  0.29575945\n",
            "  -0.34537943 -0.41258885  0.14352849  0.17935133  0.28261109  0.01790447]\n",
            " [ 0.07511463  0.27107825  0.03326336  0.20767937  0.39878829  0.2402179\n",
            "   0.17094455  0.19265571  0.56076495 -0.19384841  0.1206607  -0.47641228]\n",
            " [-0.04927707  0.4488607  -0.28749161  0.58650524 -0.17191236  0.00661142\n",
            "  -0.15569072 -0.12562298 -0.1608734  -0.44938031  0.09086713  0.25250339]]\n",
            "Eigen values:  [3.81350859 2.52914039 1.56019841]\n",
            "Explained variance per PC:  [0.3177432  0.21072908 0.12999641]\n"
          ]
        }
      ]
    },
    {
      "cell_type": "code",
      "source": [
        "# KMeans\n",
        "\n",
        "x3PCA = finalDf.drop(['quality'], axis=1)\n",
        "y3PCA = finalDf['quality']\n",
        "cstd = []\n",
        "cquality = []\n",
        "kmeans = KMeans(n_clusters=7, random_state=1, max_iter=5000) \n",
        "tic = time.perf_counter()\n",
        "labels = kmeans.fit_predict(x3PCA)\n",
        "toc = time.perf_counter()\n",
        "\n",
        "dfc = finalDf.drop(['principal component 1', 'principal component 2', 'principal component 3' ], axis=1)\n",
        "dfc['cluster']=labels\n",
        "dfc['predquality']=labels\n",
        "\n",
        "for i in range(0, 7):\n",
        "  print('cluster: ', i)\n",
        "  cluster = dfc.loc[dfc['cluster'] == i]\n",
        "  #print(cluster)\n",
        "  pred_quality = cluster['quality'].mean()\n",
        "  cquality.append(pred_quality)\n",
        "  qstd = cluster['quality'].std()\n",
        "  cstd.append(qstd)\n",
        "  print('pred quality: ',pred_quality, qstd)\n",
        "  dfc['predquality'] = dfc['predquality'].replace(i,pred_quality)\n",
        "\n",
        "MAE = mean_absolute_error(dfc['quality'], dfc['predquality'])\n",
        "temp=dfc['quality'] - dfc['predquality']\n",
        "#tstd = temp.std()\n",
        "print('MAE: ',MAE, '   stdev: ', temp.std())\n",
        "\n",
        "pyplot.plot([0, 1, 2, 3, 4, 5, 6], cquality , label='cluster quality')\n",
        "pyplot.plot([0, 1, 2, 3, 4, 5, 6], cstd , label='stdev')\n",
        "pyplot.title('Diabetes PCA KMeans Mean Cluster Quality wi Stdev')\n",
        "pyplot.ylabel('cluster quality and stdev')\n",
        "pyplot.xlabel('cluster')\n",
        "pyplot.legend()\n",
        "pyplot.show()\n"
      ],
      "metadata": {
        "colab": {
          "base_uri": "https://localhost:8080/",
          "height": 569
        },
        "id": "7Q_PhSl7gUDf",
        "outputId": "d6995498-aef9-4691-a3eb-4ecb3ad11867"
      },
      "execution_count": 36,
      "outputs": [
        {
          "output_type": "stream",
          "name": "stdout",
          "text": [
            "cluster:  0\n",
            "pred quality:  5.863192182410423 0.8560703495258893\n",
            "cluster:  1\n",
            "pred quality:  5.6918876755070205 0.824723184380683\n",
            "cluster:  2\n",
            "pred quality:  5.866666666666666 0.8685443227300218\n",
            "cluster:  3\n",
            "pred quality:  5.4718543046357615 0.7859900150632434\n",
            "cluster:  4\n",
            "pred quality:  5.6110659072416595 0.7582819083250563\n",
            "cluster:  5\n",
            "pred quality:  6.3448540706605225 0.8785427991078625\n",
            "cluster:  6\n",
            "pred quality:  5.641921397379913 0.78794919971689\n",
            "MAE:  0.6713523655099479    stdev:  0.8248808197703049\n"
          ]
        },
        {
          "output_type": "display_data",
          "data": {
            "text/plain": [
              "<Figure size 432x288 with 1 Axes>"
            ],
            "image/png": "[encoded data removed]"
          },
          "metadata": {
            "needs_background": "light"
          }
        }
      ]
    },
    {
      "cell_type": "code",
      "source": [
        "# EM\n",
        "gmm = GaussianMixture(n_components=7, max_iter=5000, covariance_type='full', random_state=7)\n",
        "tic = time.perf_counter()\n",
        "gmm_y = gmm.fit_predict(x3PCA)\n",
        "toc = time.perf_counter()\n",
        "\n",
        "predquality = np.zeros_like(gmm_y)\n",
        "\n",
        "for i in range(7):\n",
        "    cat = (gmm_y == i)\n",
        "    predquality[cat] = statistics.mean(y[cat])  \n",
        "acc = accuracy_score(y3PCA, predquality)\n",
        "print(\"Accuracy using GMM = \", acc)\n",
        "print('MAE: ', mean_absolute_error(y3PCA, predquality))\n",
        "print('time: ', (toc-tic))"
      ],
      "metadata": {
        "colab": {
          "base_uri": "https://localhost:8080/"
        },
        "id": "_kUZQwnERlqF",
        "outputId": "d1c5982c-165c-47c1-e26b-529a0d4900c4"
      },
      "execution_count": 34,
      "outputs": [
        {
          "output_type": "stream",
          "name": "stdout",
          "text": [
            "Accuracy using GMM =  0.4059743073827581\n",
            "MAE:  0.7375019346850332\n",
            "time:  0.3750455189983768\n"
          ]
        }
      ]
    }
  ]
}