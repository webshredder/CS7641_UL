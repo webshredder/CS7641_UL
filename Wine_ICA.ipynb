{
  "nbformat": 4,
  "nbformat_minor": 0,
  "metadata": {
    "colab": {
      "provenance": [],
      "collapsed_sections": []
    },
    "kernelspec": {
      "name": "python3",
      "display_name": "Python 3"
    }
  },
  "cells": [
    {
      "cell_type": "markdown",
      "metadata": {
        "id": "view-in-github"
      },
      "source": [
        "<a href=\"https://colab.research.google.com/github/Anny8910/Decision-Tree-Classification-on-Diabetes-Dataset/blob/master/Diabetes_set_(Decision_tree).ipynb\" target=\"_parent\"><img src=\"https://colab.research.google.com/assets/colab-badge.svg\" alt=\"Open In Colab\"/></a>"
      ]
    },
    {
      "cell_type": "code",
      "metadata": {
        "id": "vU5U2E-eKKdD"
      },
      "source": [
        "#import libraries\n",
        "import pandas as pd\n",
        "import numpy as np\n",
        "import time\n",
        "from matplotlib import pyplot\n",
        "from sklearn.cluster import KMeans\n",
        "from sklearn import metrics\n",
        "from sklearn.metrics import confusion_matrix\n",
        "from sklearn.mixture import GaussianMixture\n",
        "from sklearn.metrics import mean_squared_error\n",
        "from sklearn.metrics import mean_absolute_error\n",
        "from sklearn.metrics import accuracy_score\n",
        "from sklearn import preprocessing\n",
        "from sklearn.decomposition import FastICA\n",
        "import statistics"
      ],
      "execution_count": null,
      "outputs": []
    },
    {
      "cell_type": "code",
      "source": [
        "# load dataset from github account\n",
        "url = 'https://raw.githubusercontent.com/webshredder/CS7641-Assigment1/main/winequalityN.csv'\n",
        "df = pd.read_csv(url,on_bad_lines='skip')\n",
        "df.head()"
      ],
      "metadata": {
        "colab": {
          "base_uri": "https://localhost:8080/",
          "height": 206
        },
        "id": "aUjiOB-Pb2f6",
        "outputId": "a6b6b1ba-687e-4bbe-cde9-b458a1b988fb"
      },
      "execution_count": null,
      "outputs": [
        {
          "output_type": "execute_result",
          "data": {
            "text/plain": [
              "   type  fixed acidity  volatile acidity  citric acid  residual sugar  \\\n",
              "0     1            7.0              0.27         0.36            20.7   \n",
              "1     1            6.3              0.30         0.34             1.6   \n",
              "2     1            8.1              0.28         0.40             6.9   \n",
              "3     1            7.2              0.23         0.32             8.5   \n",
              "4     1            7.2              0.23         0.32             8.5   \n",
              "\n",
              "   chlorides  free sulfur dioxide  total sulfur dioxide  density    pH  \\\n",
              "0      0.045                 45.0                 170.0   1.0010  3.00   \n",
              "1      0.049                 14.0                 132.0   0.9940  3.30   \n",
              "2      0.050                 30.0                  97.0   0.9951  3.26   \n",
              "3      0.058                 47.0                 186.0   0.9956  3.19   \n",
              "4      0.058                 47.0                 186.0   0.9956  3.19   \n",
              "\n",
              "   sulphates  alcohol  quality  \n",
              "0       0.45      8.8        6  \n",
              "1       0.49      9.5        6  \n",
              "2       0.44     10.1        6  \n",
              "3       0.40      9.9        6  \n",
              "4       0.40      9.9        6  "
            ],
            "text/html": [
              "\n",
              "  <div id=\"df-c7046e1a-195a-41bf-9bca-3bf93f9c3eab\">\n",
              "    <div class=\"colab-df-container\">\n",
              "      <div>\n",
              "<style scoped>\n",
              "    .dataframe tbody tr th:only-of-type {\n",
              "        vertical-align: middle;\n",
              "    }\n",
              "\n",
              "    .dataframe tbody tr th {\n",
              "        vertical-align: top;\n",
              "    }\n",
              "\n",
              "    .dataframe thead th {\n",
              "        text-align: right;\n",
              "    }\n",
              "</style>\n",
              "<table border=\"1\" class=\"dataframe\">\n",
              "  <thead>\n",
              "    <tr style=\"text-align: right;\">\n",
              "      <th></th>\n",
              "      <th>type</th>\n",
              "      <th>fixed acidity</th>\n",
              "      <th>volatile acidity</th>\n",
              "      <th>citric acid</th>\n",
              "      <th>residual sugar</th>\n",
              "      <th>chlorides</th>\n",
              "      <th>free sulfur dioxide</th>\n",
              "      <th>total sulfur dioxide</th>\n",
              "      <th>density</th>\n",
              "      <th>pH</th>\n",
              "      <th>sulphates</th>\n",
              "      <th>alcohol</th>\n",
              "      <th>quality</th>\n",
              "    </tr>\n",
              "  </thead>\n",
              "  <tbody>\n",
              "    <tr>\n",
              "      <th>0</th>\n",
              "      <td>1</td>\n",
              "      <td>7.0</td>\n",
              "      <td>0.27</td>\n",
              "      <td>0.36</td>\n",
              "      <td>20.7</td>\n",
              "      <td>0.045</td>\n",
              "      <td>45.0</td>\n",
              "      <td>170.0</td>\n",
              "      <td>1.0010</td>\n",
              "      <td>3.00</td>\n",
              "      <td>0.45</td>\n",
              "      <td>8.8</td>\n",
              "      <td>6</td>\n",
              "    </tr>\n",
              "    <tr>\n",
              "      <th>1</th>\n",
              "      <td>1</td>\n",
              "      <td>6.3</td>\n",
              "      <td>0.30</td>\n",
              "      <td>0.34</td>\n",
              "      <td>1.6</td>\n",
              "      <td>0.049</td>\n",
              "      <td>14.0</td>\n",
              "      <td>132.0</td>\n",
              "      <td>0.9940</td>\n",
              "      <td>3.30</td>\n",
              "      <td>0.49</td>\n",
              "      <td>9.5</td>\n",
              "      <td>6</td>\n",
              "    </tr>\n",
              "    <tr>\n",
              "      <th>2</th>\n",
              "      <td>1</td>\n",
              "      <td>8.1</td>\n",
              "      <td>0.28</td>\n",
              "      <td>0.40</td>\n",
              "      <td>6.9</td>\n",
              "      <td>0.050</td>\n",
              "      <td>30.0</td>\n",
              "      <td>97.0</td>\n",
              "      <td>0.9951</td>\n",
              "      <td>3.26</td>\n",
              "      <td>0.44</td>\n",
              "      <td>10.1</td>\n",
              "      <td>6</td>\n",
              "    </tr>\n",
              "    <tr>\n",
              "      <th>3</th>\n",
              "      <td>1</td>\n",
              "      <td>7.2</td>\n",
              "      <td>0.23</td>\n",
              "      <td>0.32</td>\n",
              "      <td>8.5</td>\n",
              "      <td>0.058</td>\n",
              "      <td>47.0</td>\n",
              "      <td>186.0</td>\n",
              "      <td>0.9956</td>\n",
              "      <td>3.19</td>\n",
              "      <td>0.40</td>\n",
              "      <td>9.9</td>\n",
              "      <td>6</td>\n",
              "    </tr>\n",
              "    <tr>\n",
              "      <th>4</th>\n",
              "      <td>1</td>\n",
              "      <td>7.2</td>\n",
              "      <td>0.23</td>\n",
              "      <td>0.32</td>\n",
              "      <td>8.5</td>\n",
              "      <td>0.058</td>\n",
              "      <td>47.0</td>\n",
              "      <td>186.0</td>\n",
              "      <td>0.9956</td>\n",
              "      <td>3.19</td>\n",
              "      <td>0.40</td>\n",
              "      <td>9.9</td>\n",
              "      <td>6</td>\n",
              "    </tr>\n",
              "  </tbody>\n",
              "</table>\n",
              "</div>\n",
              "      <button class=\"colab-df-convert\" onclick=\"convertToInteractive('df-c7046e1a-195a-41bf-9bca-3bf93f9c3eab')\"\n",
              "              title=\"Convert this dataframe to an interactive table.\"\n",
              "              style=\"display:none;\">\n",
              "        \n",
              "  <svg xmlns=\"http://www.w3.org/2000/svg\" height=\"24px\"viewBox=\"0 0 24 24\"\n",
              "       width=\"24px\">\n",
              "    <path d=\"M0 0h24v24H0V0z\" fill=\"none\"/>\n",
              "    <path d=\"M18.56 5.44l.94 2.06.94-2.06 2.06-.94-2.06-.94-.94-2.06-.94 2.06-2.06.94zm-11 1L8.5 8.5l.94-2.06 2.06-.94-2.06-.94L8.5 2.5l-.94 2.06-2.06.94zm10 10l.94 2.06.94-2.06 2.06-.94-2.06-.94-.94-2.06-.94 2.06-2.06.94z\"/><path d=\"M17.41 7.96l-1.37-1.37c-.4-.4-.92-.59-1.43-.59-.52 0-1.04.2-1.43.59L10.3 9.45l-7.72 7.72c-.78.78-.78 2.05 0 2.83L4 21.41c.39.39.9.59 1.41.59.51 0 1.02-.2 1.41-.59l7.78-7.78 2.81-2.81c.8-.78.8-2.07 0-2.86zM5.41 20L4 18.59l7.72-7.72 1.47 1.35L5.41 20z\"/>\n",
              "  </svg>\n",
              "      </button>\n",
              "      \n",
              "  <style>\n",
              "    .colab-df-container {\n",
              "      display:flex;\n",
              "      flex-wrap:wrap;\n",
              "      gap: 12px;\n",
              "    }\n",
              "\n",
              "    .colab-df-convert {\n",
              "      background-color: #E8F0FE;\n",
              "      border: none;\n",
              "      border-radius: 50%;\n",
              "      cursor: pointer;\n",
              "      display: none;\n",
              "      fill: #1967D2;\n",
              "      height: 32px;\n",
              "      padding: 0 0 0 0;\n",
              "      width: 32px;\n",
              "    }\n",
              "\n",
              "    .colab-df-convert:hover {\n",
              "      background-color: #E2EBFA;\n",
              "      box-shadow: 0px 1px 2px rgba(60, 64, 67, 0.3), 0px 1px 3px 1px rgba(60, 64, 67, 0.15);\n",
              "      fill: #174EA6;\n",
              "    }\n",
              "\n",
              "    [theme=dark] .colab-df-convert {\n",
              "      background-color: #3B4455;\n",
              "      fill: #D2E3FC;\n",
              "    }\n",
              "\n",
              "    [theme=dark] .colab-df-convert:hover {\n",
              "      background-color: #434B5C;\n",
              "      box-shadow: 0px 1px 3px 1px rgba(0, 0, 0, 0.15);\n",
              "      filter: drop-shadow(0px 1px 2px rgba(0, 0, 0, 0.3));\n",
              "      fill: #FFFFFF;\n",
              "    }\n",
              "  </style>\n",
              "\n",
              "      <script>\n",
              "        const buttonEl =\n",
              "          document.querySelector('#df-c7046e1a-195a-41bf-9bca-3bf93f9c3eab button.colab-df-convert');\n",
              "        buttonEl.style.display =\n",
              "          google.colab.kernel.accessAllowed ? 'block' : 'none';\n",
              "\n",
              "        async function convertToInteractive(key) {\n",
              "          const element = document.querySelector('#df-c7046e1a-195a-41bf-9bca-3bf93f9c3eab');\n",
              "          const dataTable =\n",
              "            await google.colab.kernel.invokeFunction('convertToInteractive',\n",
              "                                                     [key], {});\n",
              "          if (!dataTable) return;\n",
              "\n",
              "          const docLinkHtml = 'Like what you see? Visit the ' +\n",
              "            '<a target=\"_blank\" href=https://colab.research.google.com/notebooks/data_table.ipynb>data table notebook</a>'\n",
              "            + ' to learn more about interactive tables.';\n",
              "          element.innerHTML = '';\n",
              "          dataTable['output_type'] = 'display_data';\n",
              "          await google.colab.output.renderOutput(dataTable, element);\n",
              "          const docLink = document.createElement('div');\n",
              "          docLink.innerHTML = docLinkHtml;\n",
              "          element.appendChild(docLink);\n",
              "        }\n",
              "      </script>\n",
              "    </div>\n",
              "  </div>\n",
              "  "
            ]
          },
          "metadata": {},
          "execution_count": 2
        }
      ]
    },
    {
      "cell_type": "code",
      "metadata": {
        "id": "ZHDE7n7fMXF1"
      },
      "source": [
        "#feature variables\n",
        "x=df.drop(['quality'], axis=1)\n",
        "#target variable\n",
        "y=df.quality"
      ],
      "execution_count": null,
      "outputs": []
    },
    {
      "cell_type": "code",
      "source": [
        "# transform data such that the distribution mean = 0 and std = 1\n",
        "scaler = preprocessing.StandardScaler()\n",
        "scaler.fit(x)\n",
        "scaled_x = scaler.transform(x)\n",
        "xs = pd.DataFrame(scaled_x, columns = x.columns)"
      ],
      "metadata": {
        "id": "XQmn39tAco9J"
      },
      "execution_count": null,
      "outputs": []
    },
    {
      "cell_type": "code",
      "source": [
        "#2 ICA components\n",
        "comp = 2\n",
        "ica = FastICA(n_components=comp, whiten=True)\n",
        "ICx = ica.fit_transform(xs)\n",
        "IC_Df = pd.DataFrame(data = ICx, columns = ['ic1', 'ic2'])\n",
        "final2Df = pd.concat([IC_Df, df['quality']], axis = 1)\n",
        "print(final2Df.head(5))\n",
        "# make dataframes\n",
        "x2ICA = final2Df.drop(['quality'], axis=1)\n",
        "y2ICA = final2Df['quality'] \n",
        "\n",
        "#3 ICA components\n",
        "comp = 3\n",
        "ica = FastICA(n_components=comp, whiten=True)\n",
        "ICx = ica.fit_transform(xs)\n",
        "IC_Df = pd.DataFrame(data = ICx, columns = ['ic1', 'ic2', 'ic3'])\n",
        "final3Df = pd.concat([IC_Df, df['quality']], axis = 1)\n",
        "print(final3Df.head(5))\n",
        "# make dataframes\n",
        "x3ICA = final3Df.drop(['quality'], axis=1)\n",
        "y3ICA = final3Df['quality'] \n",
        "\n",
        "#4 ICA components\n",
        "comp = 4\n",
        "ica = FastICA(n_components=comp, whiten=True)\n",
        "ICx = ica.fit_transform(xs)\n",
        "IC_Df = pd.DataFrame(data = ICx, columns = ['ic1', 'ic2', 'ic3', 'ic4'])\n",
        "final4Df = pd.concat([IC_Df, df['quality']], axis = 1)\n",
        "print(final4Df.head(5))\n",
        "# make dataframes\n",
        "x4ICA = final4Df.drop(['quality'], axis=1)\n",
        "y4ICA = final4Df['quality'] "
      ],
      "metadata": {
        "colab": {
          "base_uri": "https://localhost:8080/"
        },
        "id": "zSrSJjjf8oN_",
        "outputId": "8e4b832e-ac23-4f88-e5b2-316fabf0ecb8"
      },
      "execution_count": null,
      "outputs": [
        {
          "output_type": "stream",
          "name": "stdout",
          "text": [
            "        ic1       ic2  quality\n",
            "0  0.022691  0.021033        6\n",
            "1 -0.004591  0.000318        6\n",
            "2  0.002069  0.003115        6\n",
            "3  0.003934  0.012647        6\n",
            "4  0.003934  0.012647        6\n",
            "        ic1       ic2       ic3  quality\n",
            "0 -0.016866 -0.002693  0.026711        6\n",
            "1  0.002159 -0.004742 -0.001954        6\n",
            "2 -0.005511  0.002552 -0.000253        6\n",
            "3 -0.008954 -0.006785  0.007909        6\n",
            "4 -0.008954 -0.006785  0.007909        6\n",
            "        ic1       ic2       ic3       ic4  quality\n",
            "0  0.013149 -0.011436 -0.004490 -0.029795        6\n",
            "1 -0.001988 -0.000119 -0.004707  0.002236        6\n",
            "2  0.004259 -0.006020  0.002362 -0.001214        6\n",
            "3  0.008702 -0.000619 -0.006987 -0.008032        6\n",
            "4  0.008702 -0.000619 -0.006987 -0.008032        6\n"
          ]
        }
      ]
    },
    {
      "cell_type": "code",
      "source": [
        "# 2 component KMeans\n",
        "# make dataframes\n",
        "x2ICA = final2Df.drop(['quality'], axis=1)\n",
        "y2ICA = final2Df['quality']\n",
        "\n",
        "cstd = []\n",
        "cquality = []\n",
        "kmeans = KMeans(n_clusters=7, random_state=1, max_iter=5000) \n",
        "tic = time.perf_counter()\n",
        "labels = kmeans.fit_predict(x2ICA)\n",
        "toc = time.perf_counter()\n",
        "\n",
        "dfc = final2Df.drop(['ic1', 'ic2'], axis=1)\n",
        "dfc['cluster']=labels\n",
        "dfc['predquality']=labels\n",
        "\n",
        "for i in range(0, 7):\n",
        "  print('cluster: ', i)\n",
        "  cluster = dfc.loc[dfc['cluster'] == i]\n",
        "  #print(cluster)\n",
        "  pred_quality = cluster['quality'].mean()\n",
        "  cquality.append(pred_quality)\n",
        "  qstd = cluster['quality'].std()\n",
        "  cstd.append(qstd)\n",
        "  print('pred quality: ',pred_quality, qstd)\n",
        "  dfc['predquality'] = dfc['predquality'].replace(i,pred_quality)\n",
        "\n",
        "MAE = mean_absolute_error(dfc['quality'], dfc['predquality'])\n",
        "temp=dfc['quality'] - dfc['predquality']\n",
        "#tstd = temp.std()\n",
        "print('MAE: ',MAE, '   stdev: ', temp.std())\n",
        "\n",
        "pyplot.plot([0, 1, 2, 3, 4, 5, 6], cquality , label='mean cluster quality')\n",
        "pyplot.plot([0, 1, 2, 3, 4, 5, 6], cstd , label='stdev')\n",
        "pyplot.title('Diabetes 2-component ICA KMeans')\n",
        "pyplot.ylabel('cluster quality and stdev')\n",
        "pyplot.xlabel('cluster')\n",
        "pyplot.legend()\n",
        "pyplot.show()"
      ],
      "metadata": {
        "colab": {
          "base_uri": "https://localhost:8080/",
          "height": 555
        },
        "id": "moypNqKm8oLK",
        "outputId": "b35879a6-e923-4ac3-f1e6-f40f25641fab"
      },
      "execution_count": null,
      "outputs": [
        {
          "output_type": "stream",
          "name": "stdout",
          "text": [
            "cluster:  0\n",
            "pred quality:  6.347093513058129 0.8840909206656379\n",
            "cluster:  1\n",
            "pred quality:  5.881386861313868 0.8853547170592092\n",
            "cluster:  2\n",
            "pred quality:  5.7534246575342465 0.8731689006908533\n",
            "cluster:  3\n",
            "pred quality:  5.645905420991927 0.7971462989886889\n",
            "cluster:  4\n",
            "pred quality:  5.531130876747141 0.7549558852687368\n",
            "cluster:  5\n",
            "pred quality:  5.595454545454546 0.8023807456177825\n",
            "cluster:  6\n",
            "pred quality:  5.591296928327645 0.7307046706341374\n",
            "MAE:  0.6686346765599522    stdev:  0.8275320466739731\n"
          ]
        },
        {
          "output_type": "display_data",
          "data": {
            "text/plain": [
              "<Figure size 432x288 with 1 Axes>"
            ],
            "image/png": "[encoded data removed]"
          },
          "metadata": {
            "needs_background": "light"
          }
        }
      ]
    },
    {
      "cell_type": "code",
      "source": [
        "# 3 component KMeans\n",
        "# make dataframes\n",
        "x3ICA = final3Df.drop(['quality'], axis=1)\n",
        "y3ICA = final3Df['quality']\n",
        "\n",
        "cstd = []\n",
        "cquality = []\n",
        "kmeans = KMeans(n_clusters=7, random_state=1, max_iter=5000) \n",
        "tic = time.perf_counter()\n",
        "labels = kmeans.fit_predict(x3ICA)\n",
        "toc = time.perf_counter()\n",
        "\n",
        "dfc = final3Df.drop(['ic1', 'ic2', 'ic3'], axis=1)\n",
        "dfc['cluster']=labels\n",
        "dfc['predquality']=labels\n",
        "\n",
        "for i in range(0, 7):\n",
        "  print('cluster: ', i)\n",
        "  cluster = dfc.loc[dfc['cluster'] == i]\n",
        "  #print(cluster)\n",
        "  pred_quality = cluster['quality'].mean()\n",
        "  cquality.append(pred_quality)\n",
        "  qstd = cluster['quality'].std()\n",
        "  cstd.append(qstd)\n",
        "  print('pred quality: ',pred_quality, qstd)\n",
        "  dfc['predquality'] = dfc['predquality'].replace(i,pred_quality)\n",
        "\n",
        "MAE = mean_absolute_error(dfc['quality'], dfc['predquality'])\n",
        "temp=dfc['quality'] - dfc['predquality']\n",
        "#tstd = temp.std()\n",
        "print('MAE: ',MAE, '   stdev: ', temp.std())\n",
        "\n",
        "pyplot.plot([0, 1, 2, 3, 4, 5, 6], cquality , label='mean cluster quality')\n",
        "pyplot.plot([0, 1, 2, 3, 4, 5, 6], cstd , label='stdev')\n",
        "pyplot.title('Diabetes 3-component ICA KMeans')\n",
        "pyplot.ylabel('cluster quality and stdev')\n",
        "pyplot.xlabel('cluster')\n",
        "pyplot.legend()\n",
        "pyplot.show()"
      ],
      "metadata": {
        "colab": {
          "base_uri": "https://localhost:8080/",
          "height": 555
        },
        "id": "nAhFrvl-8oHZ",
        "outputId": "ed22462e-b758-4669-fce9-484d75cff918"
      },
      "execution_count": null,
      "outputs": [
        {
          "output_type": "stream",
          "name": "stdout",
          "text": [
            "cluster:  0\n",
            "pred quality:  5.599846977811783 0.745440438066051\n",
            "cluster:  1\n",
            "pred quality:  5.454545454545454 0.8007707326281138\n",
            "cluster:  2\n",
            "pred quality:  5.553323029366306 0.7253806041503289\n",
            "cluster:  3\n",
            "pred quality:  6.36 0.8818813765478429\n",
            "cluster:  4\n",
            "pred quality:  5.905292479108635 0.8602864531519958\n",
            "cluster:  5\n",
            "pred quality:  5.921259842519685 0.8850182800306422\n",
            "cluster:  6\n",
            "pred quality:  5.725931677018633 0.8446798090331789\n",
            "MAE:  0.6636376819414603    stdev:  0.8224249374412976\n"
          ]
        },
        {
          "output_type": "display_data",
          "data": {
            "text/plain": [
              "<Figure size 432x288 with 1 Axes>"
            ],
            "image/png": "[encoded data removed]"
          },
          "metadata": {
            "needs_background": "light"
          }
        }
      ]
    },
    {
      "cell_type": "code",
      "source": [
        "# 4 component KMeans\n",
        "# make dataframes\n",
        "x4ICA = final4Df.drop(['quality'], axis=1)\n",
        "y4ICA = final4Df['quality']\n",
        "\n",
        "cstd = []\n",
        "cquality = []\n",
        "kmeans = KMeans(n_clusters=7, random_state=1, max_iter=5000) \n",
        "tic = time.perf_counter()\n",
        "labels = kmeans.fit_predict(x4ICA)\n",
        "toc = time.perf_counter()\n",
        "\n",
        "dfc = final4Df.drop(['ic1', 'ic2', 'ic3', 'ic4'], axis=1)\n",
        "dfc['cluster']=labels\n",
        "dfc['predquality']=labels\n",
        "\n",
        "for i in range(0, 7):\n",
        "  print('cluster: ', i)\n",
        "  cluster = dfc.loc[dfc['cluster'] == i]\n",
        "  #print(cluster)\n",
        "  pred_quality = cluster['quality'].mean()\n",
        "  cquality.append(pred_quality)\n",
        "  qstd = cluster['quality'].std()\n",
        "  cstd.append(qstd)\n",
        "  print('pred quality: ',pred_quality, qstd)\n",
        "  dfc['predquality'] = dfc['predquality'].replace(i,pred_quality)\n",
        "\n",
        "MAE = mean_absolute_error(dfc['quality'], dfc['predquality'])\n",
        "temp=dfc['quality'] - dfc['predquality']\n",
        "#tstd = temp.std()\n",
        "print('MAE: ',MAE, '   stdev: ', temp.std())\n",
        "\n",
        "pyplot.plot([0, 1, 2, 3, 4, 5, 6], cquality , label='mean cluster quality')\n",
        "pyplot.plot([0, 1, 2, 3, 4, 5, 6], cstd , label='stdev')\n",
        "pyplot.title('Diabetes 4-component ICA KMeans')\n",
        "pyplot.ylabel('cluster quality and stdev')\n",
        "pyplot.xlabel('cluster')\n",
        "pyplot.legend()\n",
        "pyplot.show()"
      ],
      "metadata": {
        "colab": {
          "base_uri": "https://localhost:8080/",
          "height": 555
        },
        "id": "d1jo4WsL8oAB",
        "outputId": "7f4716a9-38ab-4777-9710-38d2bb4bfbc9"
      },
      "execution_count": null,
      "outputs": [
        {
          "output_type": "stream",
          "name": "stdout",
          "text": [
            "cluster:  0\n",
            "pred quality:  6.274614869390489 0.8505667183270634\n",
            "cluster:  1\n",
            "pred quality:  5.603787327021122 0.756150825798209\n",
            "cluster:  2\n",
            "pred quality:  5.834905660377358 0.8594398585774455\n",
            "cluster:  3\n",
            "pred quality:  5.864963503649635 0.8342565939788569\n",
            "cluster:  4\n",
            "pred quality:  5.3899895724713245 0.7181976251013186\n",
            "cluster:  5\n",
            "pred quality:  5.8499580888516345 0.9341320927461798\n",
            "cluster:  6\n",
            "pred quality:  5.777181208053691 0.7973511932974326\n",
            "MAE:  0.6614571865559309    stdev:  0.8228183212160388\n"
          ]
        },
        {
          "output_type": "display_data",
          "data": {
            "text/plain": [
              "<Figure size 432x288 with 1 Axes>"
            ],
            "image/png": "[encoded data removed]"
          },
          "metadata": {
            "needs_background": "light"
          }
        }
      ]
    },
    {
      "cell_type": "code",
      "source": [
        "# EM 2 components\n",
        "gmm = GaussianMixture(n_components=7, max_iter=5000, covariance_type='full', random_state=7)\n",
        "tic = time.perf_counter()\n",
        "gmm_y = gmm.fit_predict(x2ICA)\n",
        "toc = time.perf_counter()\n",
        "\n",
        "predquality = np.zeros_like(gmm_y)\n",
        "\n",
        "for i in range(7):\n",
        "    cat = (gmm_y == i)\n",
        "    predquality[cat] = statistics.mean(y[cat])  \n",
        "acc = accuracy_score(y2ICA, predquality)\n",
        "print(\"Accuracy using GMM = \", acc)\n",
        "print('MAE: ', mean_absolute_error(y2ICA, predquality))\n",
        "print('time: ', (toc-tic))"
      ],
      "metadata": {
        "colab": {
          "base_uri": "https://localhost:8080/"
        },
        "id": "5CWFmPwVIhsX",
        "outputId": "7bccc6de-5bb5-4f22-b742-5dedbdda5677"
      },
      "execution_count": null,
      "outputs": [
        {
          "output_type": "stream",
          "name": "stdout",
          "text": [
            "Accuracy using GMM =  0.42052313883299797\n",
            "MAE:  0.7096424702058505\n",
            "time:  0.2669423080001252\n"
          ]
        }
      ]
    },
    {
      "cell_type": "code",
      "source": [
        "# EM 3 components\n",
        "gmm = GaussianMixture(n_components=7, max_iter=5000, covariance_type='full', random_state=7)\n",
        "tic = time.perf_counter()\n",
        "gmm_y = gmm.fit_predict(x3ICA)\n",
        "toc = time.perf_counter()\n",
        "\n",
        "predquality = np.zeros_like(gmm_y)\n",
        "\n",
        "for i in range(7):\n",
        "    cat = (gmm_y == i)\n",
        "    predquality[cat] = statistics.mean(y[cat])  \n",
        "acc = accuracy_score(y3ICA, predquality)\n",
        "print(\"Accuracy using GMM = \", acc)\n",
        "print('MAE: ', mean_absolute_error(y3ICA, predquality))\n",
        "print('time: ', (toc-tic))"
      ],
      "metadata": {
        "colab": {
          "base_uri": "https://localhost:8080/"
        },
        "id": "jDC19zVrIhlq",
        "outputId": "583f12e0-a8a6-449d-ffd0-97851b5932e0"
      },
      "execution_count": null,
      "outputs": [
        {
          "output_type": "stream",
          "name": "stdout",
          "text": [
            "Accuracy using GMM =  0.409534127843987\n",
            "MAE:  0.7323943661971831\n",
            "time:  0.16060403700021197\n"
          ]
        }
      ]
    },
    {
      "cell_type": "code",
      "source": [
        "# EM 4 components\n",
        "gmm = GaussianMixture(n_components=7, max_iter=5000, covariance_type='full', random_state=7)\n",
        "tic = time.perf_counter()\n",
        "gmm_y = gmm.fit_predict(x4ICA)\n",
        "toc = time.perf_counter()\n",
        "\n",
        "predquality = np.zeros_like(gmm_y)\n",
        "\n",
        "for i in range(7):\n",
        "    cat = (gmm_y == i)\n",
        "    predquality[cat] = statistics.mean(y[cat])  \n",
        "acc = accuracy_score(y4ICA, predquality)\n",
        "print(\"Accuracy using GMM = \", acc)\n",
        "print('MAE: ', mean_absolute_error(y4ICA, predquality))\n",
        "print('time: ', (toc-tic))"
      ],
      "metadata": {
        "colab": {
          "base_uri": "https://localhost:8080/"
        },
        "id": "5oij0y53IhdO",
        "outputId": "436af13c-ac9b-4bc0-d0c8-2d9112773e8f"
      },
      "execution_count": null,
      "outputs": [
        {
          "output_type": "stream",
          "name": "stdout",
          "text": [
            "Accuracy using GMM =  0.4442036836403034\n",
            "MAE:  0.6723417427642779\n",
            "time:  0.24001894999992146\n"
          ]
        }
      ]
    }
  ]
}